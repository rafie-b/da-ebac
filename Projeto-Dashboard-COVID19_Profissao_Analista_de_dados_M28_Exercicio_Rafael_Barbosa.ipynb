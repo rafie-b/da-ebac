{
  "metadata": {
    "kernelspec": {
      "language": "python",
      "display_name": "Python 3",
      "name": "python3"
    },
    "language_info": {
      "name": "python",
      "version": "3.10.12",
      "mimetype": "text/x-python",
      "codemirror_mode": {
        "name": "ipython",
        "version": 3
      },
      "pygments_lexer": "ipython3",
      "nbconvert_exporter": "python",
      "file_extension": ".py"
    },
    "kaggle": {
      "accelerator": "none",
      "dataSources": [],
      "dockerImageVersionId": 30587,
      "isInternetEnabled": true,
      "language": "python",
      "sourceType": "notebook",
      "isGpuEnabled": false
    },
    "colab": {
      "provenance": [],
      "toc_visible": true
    }
  },
  "nbformat_minor": 0,
  "nbformat": 4,
  "cells": [
    {
      "cell_type": "markdown",
      "source": [
        "<img src=\"https://raw.githubusercontent.com/andre-marcos-perez/ebac-course-utils/main/media/logo/newebac_logo_black_half.png\" alt=\"ebac-logo\">\n",
        "\n",
        "---\n",
        "\n",
        "# Caderno de **Exercícios**\n",
        "**Módulo** | Análise de Dados: COVID-19 Dashboard<br>\n",
        "Professor [André Perez](https://www.linkedin.com/in/andremarcosperez/)<br>\n",
        "Aluno [Rafael Barbosa](https://www.linkedin.com/in/barbosa89/)\n",
        "\n",
        "\n",
        "---"
      ],
      "metadata": {
        "id": "d3X0IAqZ_vad"
      }
    },
    {
      "cell_type": "markdown",
      "source": [
        "# Visualização e Previsão de COVID-19: Dashboard Interativo <a id='top'></a>\n",
        "\n",
        "## TLDR\n",
        "\n",
        " * ### **Dashboard Interativo**: [Looker Studio](https://lookerstudio.google.com/reporting/f923059d-f701-4b2d-9a40-8b254d2f6350) ou através do link: https://lookerstudio.google.com/s/m4rwlEFb50s\n",
        " * **Modelo de Processamento**: [Kaggle](https://www.kaggle.com/code/rafieb/analise-de-dados-covid-19-dashboard-rafieb).\n",
        " * **Fontes**: [Casos pela universidade John Hopkins](https://github.com/CSSEGISandData/COVID-19/tree/master/csse_covid_19_data/csse_covid_19_daily_reports); [Vacinação pela universidade de Oxford](https://covid.ourworldindata.org/data/owid-covid-data.csv).\n",
        "  \n",
        "## Pandemia SARS-CoV-2\n",
        "\n",
        "A COVID-19 é uma infecção respiratória aguda causada pelo coronavírus SARS-CoV-2, potencialmente grave, de elevada transmissibilidade e de distribuição global. Fonte: [Governo do Brasil](https://www.gov.br/saude/pt-br/coronavirus/o-que-e-o-coronavirus).\n",
        "\n",
        "A disponibilidade de dados sobre a evolução dessa pandemia no tempo em uma determinada região geográfica é fundamental para entendimento e combate. Este caderno visa construir um dashboard para explorar o desenvolvimento da COVID-19 através de projeções de dados, exploração e visualização interativa sobre o avanço de casos e vacinação no Brasil. O dashboard encontra-se no [Looker Studio](https://lookerstudio.google.com/reporting/f923059d-f701-4b2d-9a40-8b254d2f6350). Enjoy!\n",
        "    \n",
        "\n",
        "* [Dados](#Dados)<br>\n",
        "* [Análise de Dados Exploratória](#EDA)<br>\n",
        "* [Dashboard Interativo](#Dashboard)<br>"
      ],
      "metadata": {
        "id": "hs9hQ07f_vat"
      }
    },
    {
      "cell_type": "markdown",
      "source": [
        "## Dados\n",
        "  \n",
        "\n",
        "Os dados sobre **casos da COVID-19** são compilados pelo centro de ciência de sistemas e engenharia da [**John Hopkins University**](https://www.jhu.edu). Os dados são atualizados diariamente deste janeiro de 2020 com uma granularidade temporal de dias e geográfica de regiões de países (estados, condados, etc.).\n",
        "Confira o projeto [JHU CCSE COVID-19 Content Portal](https://systems.jhu.edu/research/public-health/ncov/) e acesse os dados diários no [GitHub da JHU](https://github.com/CSSEGISandData/COVID-19/tree/master/csse_covid_19_data/csse_covid_19_daily_reports). Abaixo estão descritos os dados derivados do seu processamento.\n",
        "\n",
        " - **date**: data de referência;\n",
        " - **state**: estado;\n",
        " - **country**: país;\n",
        " - **population**: população estimada;\n",
        " - **confirmed**: número acumulado de infectados;\n",
        " - **confirmed_1d**: número diário de infectados;\n",
        " - **confirmed_moving_avg_7d**: média móvel de 7 dias do número diário de infectados;\n",
        " - **confirmed_moving_avg_7d_rate_14d**: média móvel de 7 dias dividido pela média móvel de 7 dias de 14 dias atrás;\n",
        " - **deaths**: número acumulado de mortos;\n",
        " - **deaths_1d**: número diário de mortos;\n",
        " - **deaths_moving_avg_7d**: média móvel de 7 dias do número diário de mortos;\n",
        " - **deaths_moving_avg_7d**: média móvel de 7 dias dividido pela média móvel de 7 dias de 14 dias atrás;\n",
        " - **month**: mês de referência;\n",
        " - **year**: ano de referência.\n",
        "\n",
        "Os dados sobre **vacinação da COVID-19** são compilados pelo projeto Our World in Data (OWID) da [**University of Oxford**](https://www.ox.ac.uk). Os dados são atualizados diariamente deste janeiro de 2020 com uma granularidade temporal de dias e geográfica de países. Confira o projeto [OWID](https://ourworldindata.org) e baixe os [dados em CSV](https://covid.ourworldindata.org/data/owid-covid-data.csv). Abaixo estão descritos os dados derivados do seu processamento.\n",
        "    \n",
        " - **date**: data de referência;\n",
        " - **country**: país;\n",
        " - **population**: população estimada;\n",
        " - **total**: número acumulado de doses administradas;\n",
        " - **one_shot**: número acumulado de pessoas com uma dose;\n",
        " - **one_shot_perc**: número acumulado relativo de pessoas com uma dose;\n",
        " - **two_shots**: número acumulado de pessoas com duas doses;\n",
        " - **two_shot_perc**: número acumulado relativo de pessoas com duas doses;\n",
        " - **three_shots**: número acumulado de pessoas com três doses;\n",
        " - **three_shot_perc**: número acumulado relativo de pessoas com três doses;\n",
        " - **month**: mês de referência;\n",
        " - **year**: ano de referência."
      ],
      "metadata": {
        "id": "2tkOX4Sw_vaw"
      }
    },
    {
      "cell_type": "markdown",
      "source": [
        "## Análise de Dados Exploratória"
      ],
      "metadata": {
        "id": "QhACq-iB_vay"
      }
    },
    {
      "cell_type": "code",
      "source": [
        "# bibliotecas\n",
        "import math\n",
        "from typing import Iterator\n",
        "from datetime import datetime, timedelta\n",
        "\n",
        "import numpy as np\n",
        "import pandas as pd"
      ],
      "metadata": {
        "execution": {
          "iopub.status.busy": "2023-12-06T06:13:04.496533Z",
          "iopub.execute_input": "2023-12-06T06:13:04.496892Z",
          "iopub.status.idle": "2023-12-06T06:13:04.849489Z",
          "shell.execute_reply.started": "2023-12-06T06:13:04.496863Z",
          "shell.execute_reply": "2023-12-06T06:13:04.847579Z"
        },
        "trusted": true,
        "id": "y0ty9T9T_va0"
      },
      "execution_count": null,
      "outputs": []
    },
    {
      "cell_type": "markdown",
      "source": [
        "### Casos\n",
        "#### Extração dos casos"
      ],
      "metadata": {
        "id": "TGn7NoaQ_va5"
      }
    },
    {
      "cell_type": "code",
      "source": [
        "# O dado está compilado em um arquivo por dia, exemplo para 2021/12/01.\n",
        "cases = pd.read_csv('https://raw.githubusercontent.com/CSSEGISandData/COVID-19/master/csse_covid_19_data/csse_covid_19_daily_reports/01-12-2021.csv', sep=',')\n",
        "cases.head()"
      ],
      "metadata": {
        "execution": {
          "iopub.status.busy": "2023-12-06T06:14:44.270165Z",
          "iopub.execute_input": "2023-12-06T06:14:44.270693Z",
          "iopub.status.idle": "2023-12-06T06:14:44.567954Z",
          "shell.execute_reply.started": "2023-12-06T06:14:44.270660Z",
          "shell.execute_reply": "2023-12-06T06:14:44.566595Z"
        },
        "trusted": true,
        "id": "ZnKAH9Da_va6",
        "outputId": "314e8cc5-1298-48ab-9cd5-f323dbbefbbe"
      },
      "execution_count": null,
      "outputs": [
        {
          "execution_count": 2,
          "output_type": "execute_result",
          "data": {
            "text/plain": "   FIPS Admin2 Province_State Country_Region          Last_Update       Lat  \\\n0   NaN    NaN            NaN    Afghanistan  2021-01-13 05:22:15  33.93911   \n1   NaN    NaN            NaN        Albania  2021-01-13 05:22:15  41.15330   \n2   NaN    NaN            NaN        Algeria  2021-01-13 05:22:15  28.03390   \n3   NaN    NaN            NaN        Andorra  2021-01-13 05:22:15  42.50630   \n4   NaN    NaN            NaN         Angola  2021-01-13 05:22:15 -11.20270   \n\n       Long_  Confirmed  Deaths  Recovered  Active Combined_Key  \\\n0  67.709953      53584    2301      44608    6675  Afghanistan   \n1  20.168300      64627    1252      38421   24954      Albania   \n2   1.659600     102641    2816      69608   30217      Algeria   \n3   1.521800       8682      86       7930     666      Andorra   \n4  17.873900      18343     422      15512    2409       Angola   \n\n   Incident_Rate  Case_Fatality_Ratio  \n0     137.647787             4.294192  \n1    2245.708527             1.937271  \n2     234.067409             2.743543  \n3   11236.653077             0.990555  \n4      55.811022             2.300605  ",
            "text/html": "<div>\n<style scoped>\n    .dataframe tbody tr th:only-of-type {\n        vertical-align: middle;\n    }\n\n    .dataframe tbody tr th {\n        vertical-align: top;\n    }\n\n    .dataframe thead th {\n        text-align: right;\n    }\n</style>\n<table border=\"1\" class=\"dataframe\">\n  <thead>\n    <tr style=\"text-align: right;\">\n      <th></th>\n      <th>FIPS</th>\n      <th>Admin2</th>\n      <th>Province_State</th>\n      <th>Country_Region</th>\n      <th>Last_Update</th>\n      <th>Lat</th>\n      <th>Long_</th>\n      <th>Confirmed</th>\n      <th>Deaths</th>\n      <th>Recovered</th>\n      <th>Active</th>\n      <th>Combined_Key</th>\n      <th>Incident_Rate</th>\n      <th>Case_Fatality_Ratio</th>\n    </tr>\n  </thead>\n  <tbody>\n    <tr>\n      <th>0</th>\n      <td>NaN</td>\n      <td>NaN</td>\n      <td>NaN</td>\n      <td>Afghanistan</td>\n      <td>2021-01-13 05:22:15</td>\n      <td>33.93911</td>\n      <td>67.709953</td>\n      <td>53584</td>\n      <td>2301</td>\n      <td>44608</td>\n      <td>6675</td>\n      <td>Afghanistan</td>\n      <td>137.647787</td>\n      <td>4.294192</td>\n    </tr>\n    <tr>\n      <th>1</th>\n      <td>NaN</td>\n      <td>NaN</td>\n      <td>NaN</td>\n      <td>Albania</td>\n      <td>2021-01-13 05:22:15</td>\n      <td>41.15330</td>\n      <td>20.168300</td>\n      <td>64627</td>\n      <td>1252</td>\n      <td>38421</td>\n      <td>24954</td>\n      <td>Albania</td>\n      <td>2245.708527</td>\n      <td>1.937271</td>\n    </tr>\n    <tr>\n      <th>2</th>\n      <td>NaN</td>\n      <td>NaN</td>\n      <td>NaN</td>\n      <td>Algeria</td>\n      <td>2021-01-13 05:22:15</td>\n      <td>28.03390</td>\n      <td>1.659600</td>\n      <td>102641</td>\n      <td>2816</td>\n      <td>69608</td>\n      <td>30217</td>\n      <td>Algeria</td>\n      <td>234.067409</td>\n      <td>2.743543</td>\n    </tr>\n    <tr>\n      <th>3</th>\n      <td>NaN</td>\n      <td>NaN</td>\n      <td>NaN</td>\n      <td>Andorra</td>\n      <td>2021-01-13 05:22:15</td>\n      <td>42.50630</td>\n      <td>1.521800</td>\n      <td>8682</td>\n      <td>86</td>\n      <td>7930</td>\n      <td>666</td>\n      <td>Andorra</td>\n      <td>11236.653077</td>\n      <td>0.990555</td>\n    </tr>\n    <tr>\n      <th>4</th>\n      <td>NaN</td>\n      <td>NaN</td>\n      <td>NaN</td>\n      <td>Angola</td>\n      <td>2021-01-13 05:22:15</td>\n      <td>-11.20270</td>\n      <td>17.873900</td>\n      <td>18343</td>\n      <td>422</td>\n      <td>15512</td>\n      <td>2409</td>\n      <td>Angola</td>\n      <td>55.811022</td>\n      <td>2.300605</td>\n    </tr>\n  </tbody>\n</table>\n</div>"
          },
          "metadata": {}
        }
      ]
    },
    {
      "cell_type": "code",
      "source": [
        "# define iterador para um intervalo de tempo a ser extraído\n",
        "def date_range(start_date: datetime, end_date: datetime) -> Iterator[datetime]:\n",
        "  date_range_days: int = (end_date - start_date).days\n",
        "  for lag in range(date_range_days):\n",
        "    yield start_date + timedelta(lag)\n",
        "print(\"date function defined\")"
      ],
      "metadata": {
        "execution": {
          "iopub.status.busy": "2023-12-06T06:26:14.880720Z",
          "iopub.execute_input": "2023-12-06T06:26:14.881102Z",
          "iopub.status.idle": "2023-12-06T06:26:14.888612Z",
          "shell.execute_reply.started": "2023-12-06T06:26:14.881073Z",
          "shell.execute_reply": "2023-12-06T06:26:14.887026Z"
        },
        "trusted": true,
        "id": "5y0mlep0_va_",
        "outputId": "f7e82570-e3b1-4cbc-9cd9-41a072e0ad9b"
      },
      "execution_count": null,
      "outputs": [
        {
          "name": "stdout",
          "text": "func defined\n",
          "output_type": "stream"
        }
      ]
    },
    {
      "cell_type": "code",
      "source": [
        "# define o intervalo de tempo a ser extraído\n",
        "start_date = datetime(2021,  1,  1)\n",
        "end_date   = datetime(2021, 12, 31)\n",
        "print(\"defined date\", start_date, end_date)"
      ],
      "metadata": {
        "execution": {
          "iopub.status.busy": "2023-12-06T06:26:17.019571Z",
          "iopub.execute_input": "2023-12-06T06:26:17.019982Z",
          "iopub.status.idle": "2023-12-06T06:26:17.027957Z",
          "shell.execute_reply.started": "2023-12-06T06:26:17.019951Z",
          "shell.execute_reply": "2023-12-06T06:26:17.025927Z"
        },
        "trusted": true,
        "id": "nV5JqoUk_vbB",
        "outputId": "97f89ee3-b44e-4f3f-c103-a23022acc635"
      },
      "execution_count": null,
      "outputs": [
        {
          "name": "stdout",
          "text": "defined 2021-01-01 00:00:00 2021-12-31 00:00:00\n",
          "output_type": "stream"
        }
      ]
    },
    {
      "cell_type": "code",
      "source": [
        "# define iterador para selecionar as colunas de interesse e as linhas referentes ao Brasil.\n",
        "cases = None\n",
        "cases_is_empty = True\n",
        "\n",
        "for date in date_range(start_date=start_date, end_date=end_date):\n",
        "\n",
        "  date_str = date.strftime('%m-%d-%Y')\n",
        "  data_source_url = f'https://raw.githubusercontent.com/CSSEGISandData/COVID-19/master/csse_covid_19_data/csse_covid_19_daily_reports/{date_str}.csv'\n",
        "\n",
        "  case = pd.read_csv(data_source_url, sep=',')\n",
        "\n",
        "  case = case.drop(['FIPS', 'Admin2', 'Last_Update', 'Lat', 'Long_', 'Recovered', 'Active', 'Combined_Key', 'Case_Fatality_Ratio'], axis=1)\n",
        "  case = case.query('Country_Region == \"Brazil\"').reset_index(drop=True)\n",
        "  case['Date'] = pd.to_datetime(date.strftime('%Y-%m-%d'))\n",
        "\n",
        "  if cases_is_empty:\n",
        "    cases = case\n",
        "    cases_is_empty = False\n",
        "  else:\n",
        "    cases = pd.concat([cases,case],ignore_index=True)\n",
        "print(\"selection finished + dataframe ready\")"
      ],
      "metadata": {
        "execution": {
          "iopub.status.busy": "2023-12-06T06:39:33.139732Z",
          "iopub.execute_input": "2023-12-06T06:39:33.140190Z",
          "iopub.status.idle": "2023-12-06T06:40:02.085168Z",
          "shell.execute_reply.started": "2023-12-06T06:39:33.140160Z",
          "shell.execute_reply": "2023-12-06T06:40:02.083491Z"
        },
        "trusted": true,
        "id": "spkYt_lr_vbD",
        "outputId": "bbcdc332-e6bd-4d3c-8cb4-327cb4c22a51"
      },
      "execution_count": null,
      "outputs": [
        {
          "name": "stdout",
          "text": "selection finished\n",
          "output_type": "stream"
        }
      ]
    },
    {
      "cell_type": "code",
      "source": [
        "# confere dados para 'Province_State == \"Sao Paulo\"'\n",
        "cases.query('Province_State == \"Sao Paulo\"').head()"
      ],
      "metadata": {
        "execution": {
          "iopub.status.busy": "2023-12-06T06:41:52.250466Z",
          "iopub.execute_input": "2023-12-06T06:41:52.250871Z",
          "iopub.status.idle": "2023-12-06T06:41:52.274078Z",
          "shell.execute_reply.started": "2023-12-06T06:41:52.250842Z",
          "shell.execute_reply": "2023-12-06T06:41:52.272572Z"
        },
        "trusted": true,
        "id": "51ZBdcTN_vbF",
        "outputId": "25e1e7db-39fe-4bb5-94f0-2ecbbb935db3"
      },
      "execution_count": null,
      "outputs": [
        {
          "execution_count": 19,
          "output_type": "execute_result",
          "data": {
            "text/plain": "    Province_State Country_Region  Confirmed  Deaths  Incident_Rate       Date\n24       Sao Paulo         Brazil    1466191   46775    3192.990778 2021-01-01\n51       Sao Paulo         Brazil    1467953   46808    3196.827966 2021-01-02\n78       Sao Paulo         Brazil    1471422   46845    3204.382565 2021-01-03\n105      Sao Paulo         Brazil    1473670   46888    3209.278136 2021-01-04\n132      Sao Paulo         Brazil    1486551   47222    3237.329676 2021-01-05",
            "text/html": "<div>\n<style scoped>\n    .dataframe tbody tr th:only-of-type {\n        vertical-align: middle;\n    }\n\n    .dataframe tbody tr th {\n        vertical-align: top;\n    }\n\n    .dataframe thead th {\n        text-align: right;\n    }\n</style>\n<table border=\"1\" class=\"dataframe\">\n  <thead>\n    <tr style=\"text-align: right;\">\n      <th></th>\n      <th>Province_State</th>\n      <th>Country_Region</th>\n      <th>Confirmed</th>\n      <th>Deaths</th>\n      <th>Incident_Rate</th>\n      <th>Date</th>\n    </tr>\n  </thead>\n  <tbody>\n    <tr>\n      <th>24</th>\n      <td>Sao Paulo</td>\n      <td>Brazil</td>\n      <td>1466191</td>\n      <td>46775</td>\n      <td>3192.990778</td>\n      <td>2021-01-01</td>\n    </tr>\n    <tr>\n      <th>51</th>\n      <td>Sao Paulo</td>\n      <td>Brazil</td>\n      <td>1467953</td>\n      <td>46808</td>\n      <td>3196.827966</td>\n      <td>2021-01-02</td>\n    </tr>\n    <tr>\n      <th>78</th>\n      <td>Sao Paulo</td>\n      <td>Brazil</td>\n      <td>1471422</td>\n      <td>46845</td>\n      <td>3204.382565</td>\n      <td>2021-01-03</td>\n    </tr>\n    <tr>\n      <th>105</th>\n      <td>Sao Paulo</td>\n      <td>Brazil</td>\n      <td>1473670</td>\n      <td>46888</td>\n      <td>3209.278136</td>\n      <td>2021-01-04</td>\n    </tr>\n    <tr>\n      <th>132</th>\n      <td>Sao Paulo</td>\n      <td>Brazil</td>\n      <td>1486551</td>\n      <td>47222</td>\n      <td>3237.329676</td>\n      <td>2021-01-05</td>\n    </tr>\n  </tbody>\n</table>\n</div>"
          },
          "metadata": {}
        }
      ]
    },
    {
      "cell_type": "markdown",
      "source": [
        "#### Transformação dos casos"
      ],
      "metadata": {
        "id": "dih_VEh0_vbG"
      }
    },
    {
      "cell_type": "code",
      "source": [
        "cases.head()\n",
        "cases.shape\n",
        "cases.info()"
      ],
      "metadata": {
        "execution": {
          "iopub.status.busy": "2023-12-06T06:41:57.498649Z",
          "iopub.execute_input": "2023-12-06T06:41:57.499927Z",
          "iopub.status.idle": "2023-12-06T06:41:57.525130Z",
          "shell.execute_reply.started": "2023-12-06T06:41:57.499879Z",
          "shell.execute_reply": "2023-12-06T06:41:57.523892Z"
        },
        "trusted": true,
        "id": "V8xAzdTx_vbI",
        "outputId": "219cdc5b-140b-4096-b1cf-863249083a4d"
      },
      "execution_count": null,
      "outputs": [
        {
          "name": "stdout",
          "text": "<class 'pandas.core.frame.DataFrame'>\nRangeIndex: 9828 entries, 0 to 9827\nData columns (total 6 columns):\n #   Column          Non-Null Count  Dtype         \n---  ------          --------------  -----         \n 0   Province_State  9828 non-null   object        \n 1   Country_Region  9828 non-null   object        \n 2   Confirmed       9828 non-null   int64         \n 3   Deaths          9828 non-null   int64         \n 4   Incident_Rate   9828 non-null   float64       \n 5   Date            9828 non-null   datetime64[ns]\ndtypes: datetime64[ns](1), float64(1), int64(2), object(2)\nmemory usage: 460.8+ KB\n",
          "output_type": "stream"
        }
      ]
    },
    {
      "cell_type": "code",
      "source": [
        "# ajusta o nome das colunas\n",
        "cases = cases.rename(\n",
        "  columns={\n",
        "    'Province_State': 'state',\n",
        "    'Country_Region': 'country'\n",
        "  }\n",
        ")\n",
        "\n",
        "for col in cases.columns:\n",
        "  cases = cases.rename(columns={col: col.lower()})\n",
        "print('columns adjusted')"
      ],
      "metadata": {
        "execution": {
          "iopub.status.busy": "2023-12-06T06:42:30.300639Z",
          "iopub.execute_input": "2023-12-06T06:42:30.301032Z",
          "iopub.status.idle": "2023-12-06T06:42:30.314398Z",
          "shell.execute_reply.started": "2023-12-06T06:42:30.301002Z",
          "shell.execute_reply": "2023-12-06T06:42:30.312860Z"
        },
        "trusted": true,
        "id": "JKDHBPjK_vbJ",
        "outputId": "c273c642-9732-427a-d6f2-68139a75cf1f"
      },
      "execution_count": null,
      "outputs": [
        {
          "name": "stdout",
          "text": "columns adjusted\n",
          "output_type": "stream"
        }
      ]
    },
    {
      "cell_type": "code",
      "source": [
        "# ajusta o nome dos estados.\n",
        "states_map = {\n",
        "    'Amapa': 'Amapá',\n",
        "    'Ceara': 'Ceará',\n",
        "    'Espirito Santo': 'Espírito Santo',\n",
        "    'Goias': 'Goiás',\n",
        "    'Para': 'Pará',\n",
        "    'Paraiba': 'Paraíba',\n",
        "    'Parana': 'Paraná',\n",
        "    'Piaui': 'Piauí',\n",
        "    'Rondonia': 'Rondônia',\n",
        "    'Sao Paulo': 'São Paulo'\n",
        "}\n",
        "\n",
        "cases['state'] = cases['state'].apply(lambda state: states_map.get(state) if state in states_map.keys() else state)\n",
        "print('names adjusted')"
      ],
      "metadata": {
        "execution": {
          "iopub.status.busy": "2023-12-06T06:43:04.870711Z",
          "iopub.execute_input": "2023-12-06T06:43:04.871072Z",
          "iopub.status.idle": "2023-12-06T06:43:04.882910Z",
          "shell.execute_reply.started": "2023-12-06T06:43:04.871043Z",
          "shell.execute_reply": "2023-12-06T06:43:04.881835Z"
        },
        "trusted": true,
        "id": "Si7Fmod9_vbK",
        "outputId": "e6f95da3-a4a5-4dc3-f6d8-9ed53596f7ae"
      },
      "execution_count": null,
      "outputs": [
        {
          "name": "stdout",
          "text": "names adjusted\n",
          "output_type": "stream"
        }
      ]
    },
    {
      "cell_type": "code",
      "source": [
        "# organiza chaves temporais\n",
        "cases['month'] = cases['date'].apply(lambda date: date.strftime('%Y-%m'))\n",
        "cases['year']  = cases['date'].apply(lambda date: date.strftime('%Y'))\n",
        "print('keys adjusted')"
      ],
      "metadata": {
        "execution": {
          "iopub.status.busy": "2023-12-06T06:43:28.858545Z",
          "iopub.execute_input": "2023-12-06T06:43:28.859097Z",
          "iopub.status.idle": "2023-12-06T06:43:28.947297Z",
          "shell.execute_reply.started": "2023-12-06T06:43:28.859058Z",
          "shell.execute_reply": "2023-12-06T06:43:28.946129Z"
        },
        "trusted": true,
        "id": "v6DilvzH_vbL",
        "outputId": "51ebdfae-75c6-46ea-d031-16d3cbede65e"
      },
      "execution_count": null,
      "outputs": [
        {
          "name": "stdout",
          "text": "keys adjusted\n",
          "output_type": "stream"
        }
      ]
    },
    {
      "cell_type": "code",
      "source": [
        "# extrai a população estimada a partir de 'incident_rate'\n",
        "cases['population'] = round(100000 * (cases['confirmed'] / cases['incident_rate']))\n",
        "cases = cases.drop('incident_rate', axis=1)\n",
        "print('population extrated')"
      ],
      "metadata": {
        "execution": {
          "iopub.status.busy": "2023-12-06T06:44:10.693729Z",
          "iopub.execute_input": "2023-12-06T06:44:10.694113Z",
          "iopub.status.idle": "2023-12-06T06:44:10.705579Z",
          "shell.execute_reply.started": "2023-12-06T06:44:10.694087Z",
          "shell.execute_reply": "2023-12-06T06:44:10.704147Z"
        },
        "trusted": true,
        "id": "9wBpkhBL_vbN",
        "outputId": "e25a878f-e9af-4629-d523-907f6ee4d5a8"
      },
      "execution_count": null,
      "outputs": [
        {
          "name": "stdout",
          "text": "population extrated\n",
          "output_type": "stream"
        }
      ]
    },
    {
      "cell_type": "code",
      "source": [
        "# casos e mortes por estado\n",
        "\n",
        "cases_ = None\n",
        "cases_is_empty = True\n",
        "\n",
        "# define tendência como string a partir da estabilidade (14 dias)\n",
        "def get_trend(rate: float) -> str:\n",
        "\n",
        "  if np.isnan(rate):\n",
        "    return np.NaN\n",
        "\n",
        "  if rate < 0.75:\n",
        "    status = 'downward'\n",
        "  elif rate > 1.15:\n",
        "    status = 'upward'\n",
        "  else:\n",
        "    status = 'stable'\n",
        "\n",
        "  return status\n",
        "\n",
        "# Número\n",
        "# média móvel (7 dias)\n",
        "# estabilidade (14 dias)\n",
        "# tendência\n",
        "\n",
        "for state in cases['state'].drop_duplicates():\n",
        "\n",
        "  cases_per_state = cases.query(f'state == \"{state}\"').reset_index(drop=True)\n",
        "  cases_per_state = cases_per_state.sort_values(by=['date'])\n",
        "  # casos\n",
        "  cases_per_state['confirmed_1d'] = cases_per_state['confirmed'].diff(periods=1)\n",
        "  cases_per_state['confirmed_moving_avg_7d'] = np.ceil(cases_per_state['confirmed_1d'].rolling(window=7).mean())\n",
        "  cases_per_state['confirmed_moving_avg_7d_rate_14d'] = cases_per_state['confirmed_moving_avg_7d']/cases_per_state['confirmed_moving_avg_7d'].shift(periods=14)\n",
        "  cases_per_state['confirmed_trend'] = cases_per_state['confirmed_moving_avg_7d_rate_14d'].apply(get_trend)\n",
        "  # mortes\n",
        "  cases_per_state['deaths_1d'] = cases_per_state['deaths'].diff(periods=1)\n",
        "  cases_per_state['deaths_moving_avg_7d'] = np.ceil(cases_per_state['deaths_1d'].rolling(window=7).mean())\n",
        "  cases_per_state['deaths_moving_avg_7d_rate_14d'] = cases_per_state['deaths_moving_avg_7d']/cases_per_state['deaths_moving_avg_7d'].shift(periods=14)\n",
        "  cases_per_state['deaths_trend'] = cases_per_state['deaths_moving_avg_7d_rate_14d'].apply(get_trend)\n",
        "\n",
        "  if cases_is_empty:\n",
        "    cases_ = cases_per_state\n",
        "    cases_is_empty = False\n",
        "  else:\n",
        "    cases_ = pd.concat([cases_,cases_per_state], ignore_index=True)\n",
        "\n",
        "cases = cases_\n",
        "cases_ = None\n",
        "print('parameters extracted')"
      ],
      "metadata": {
        "execution": {
          "iopub.status.busy": "2023-12-06T06:45:33.653537Z",
          "iopub.execute_input": "2023-12-06T06:45:33.653929Z",
          "iopub.status.idle": "2023-12-06T06:45:33.985429Z",
          "shell.execute_reply.started": "2023-12-06T06:45:33.653902Z",
          "shell.execute_reply": "2023-12-06T06:45:33.984574Z"
        },
        "trusted": true,
        "id": "_8NsFLHb_vbO",
        "outputId": "28e1dee6-9597-48bd-fd54-53ef30090ced"
      },
      "execution_count": null,
      "outputs": [
        {
          "name": "stdout",
          "text": "parameters extracted\n",
          "output_type": "stream"
        }
      ]
    },
    {
      "cell_type": "code",
      "source": [
        "# padroniza o tipo dos dados - type casting\n",
        "cases['population'] = cases['population'].astype('Int64')\n",
        "cases['confirmed_1d'] = cases['confirmed_1d'].astype('Int64')\n",
        "cases['confirmed_moving_avg_7d'] = cases['confirmed_moving_avg_7d'].astype('Int64')\n",
        "cases['deaths_1d'] = cases['deaths_1d'].astype('Int64')\n",
        "cases['deaths_moving_avg_7d'] = cases['deaths_moving_avg_7d'].astype('Int64')\n",
        "print('type casting done')"
      ],
      "metadata": {
        "execution": {
          "iopub.status.busy": "2023-12-06T06:46:12.632567Z",
          "iopub.execute_input": "2023-12-06T06:46:12.632928Z",
          "iopub.status.idle": "2023-12-06T06:46:12.648670Z",
          "shell.execute_reply.started": "2023-12-06T06:46:12.632901Z",
          "shell.execute_reply": "2023-12-06T06:46:12.647204Z"
        },
        "trusted": true,
        "id": "eIpPnC13_vbP",
        "outputId": "ec5a0a2c-246f-4c34-e462-3bb214fd13ec"
      },
      "execution_count": null,
      "outputs": [
        {
          "name": "stdout",
          "text": "type casting done\n",
          "output_type": "stream"
        }
      ]
    },
    {
      "cell_type": "code",
      "source": [
        "# reorganizar as colunas\n",
        "cases = cases[['date', 'country', 'state', 'population', 'confirmed', 'confirmed_1d', 'confirmed_moving_avg_7d', 'confirmed_moving_avg_7d_rate_14d', 'confirmed_trend', 'deaths', 'deaths_1d', 'deaths_moving_avg_7d', 'deaths_moving_avg_7d_rate_14d', 'deaths_trend', 'month', 'year']]\n",
        "cases.head(n=25)\n",
        "print('columns adjusted')"
      ],
      "metadata": {
        "execution": {
          "iopub.status.busy": "2023-12-06T06:46:33.208263Z",
          "iopub.execute_input": "2023-12-06T06:46:33.208639Z",
          "iopub.status.idle": "2023-12-06T06:46:33.220461Z",
          "shell.execute_reply.started": "2023-12-06T06:46:33.208612Z",
          "shell.execute_reply": "2023-12-06T06:46:33.219096Z"
        },
        "trusted": true,
        "id": "xU1LZ63B_vbQ",
        "outputId": "739dd876-b378-4d36-812c-2a88907b4970"
      },
      "execution_count": null,
      "outputs": [
        {
          "name": "stdout",
          "text": "columns adjusted\n",
          "output_type": "stream"
        }
      ]
    },
    {
      "cell_type": "markdown",
      "source": [
        "#### Carregamento dos casos"
      ],
      "metadata": {
        "id": "7yZguX08_vbR"
      }
    },
    {
      "cell_type": "code",
      "source": [
        "# salva em './covid-cases.csv'\n",
        "cases.to_csv('./covid-cases.csv', sep=',', index=False)\n",
        "print('CSV dataframe saved')"
      ],
      "metadata": {
        "execution": {
          "iopub.status.busy": "2023-12-06T06:48:26.454182Z",
          "iopub.execute_input": "2023-12-06T06:48:26.454557Z",
          "iopub.status.idle": "2023-12-06T06:48:26.527827Z",
          "shell.execute_reply.started": "2023-12-06T06:48:26.454530Z",
          "shell.execute_reply": "2023-12-06T06:48:26.527173Z"
        },
        "trusted": true,
        "id": "kKHei_Q9_vbR",
        "outputId": "036ae3db-14fe-4fd3-a456-e1dc74e64df5"
      },
      "execution_count": null,
      "outputs": [
        {
          "name": "stdout",
          "text": "CSV dataframe saved\n",
          "output_type": "stream"
        }
      ]
    },
    {
      "cell_type": "markdown",
      "source": [
        "### Vacinação\n",
        "#### Extração de vacinações"
      ],
      "metadata": {
        "id": "5FguNzrt_vbS"
      }
    },
    {
      "cell_type": "code",
      "source": [
        "# Os dados estão compilados em um único arquivo.\n",
        "vaccines = pd.read_csv('https://covid.ourworldindata.org/data/owid-covid-data.csv', sep=',', parse_dates=[3], infer_datetime_format=True)\n",
        "vaccines.head()\n",
        "print(\"dataframe ready\")"
      ],
      "metadata": {
        "execution": {
          "iopub.status.busy": "2023-12-06T06:50:09.298155Z",
          "iopub.execute_input": "2023-12-06T06:50:09.298483Z",
          "iopub.status.idle": "2023-12-06T06:50:13.727882Z",
          "shell.execute_reply.started": "2023-12-06T06:50:09.298456Z",
          "shell.execute_reply": "2023-12-06T06:50:13.726469Z"
        },
        "trusted": true,
        "id": "xcgfIK2V_vbS",
        "outputId": "48302962-6c57-4a51-e28a-2935b0877dcd"
      },
      "execution_count": null,
      "outputs": [
        {
          "name": "stderr",
          "text": "/tmp/ipykernel_47/2633929795.py:2: FutureWarning: The argument 'infer_datetime_format' is deprecated and will be removed in a future version. A strict version of it is now the default, see https://pandas.pydata.org/pdeps/0004-consistent-to-datetime-parsing.html. You can safely remove this argument.\n  vaccines = pd.read_csv('https://covid.ourworldindata.org/data/owid-covid-data.csv', sep=',', parse_dates=[3], infer_datetime_format=True)\n/tmp/ipykernel_47/2633929795.py:2: DtypeWarning: Columns (33) have mixed types. Specify dtype option on import or set low_memory=False.\n  vaccines = pd.read_csv('https://covid.ourworldindata.org/data/owid-covid-data.csv', sep=',', parse_dates=[3], infer_datetime_format=True)\n",
          "output_type": "stream"
        },
        {
          "name": "stdout",
          "text": "selection finished + dataframe ready\n",
          "output_type": "stream"
        }
      ]
    },
    {
      "cell_type": "code",
      "source": [
        "# seleciona as colunas de interesse e as linhas referentes ao Brasil.\n",
        "vaccines = vaccines.query('location == \"Brazil\"').reset_index(drop=True)\n",
        "vaccines = vaccines[['location', 'population', 'total_vaccinations', 'people_vaccinated', 'people_fully_vaccinated', 'total_boosters', 'date']]\n",
        "vaccines.head()\n",
        "print(\"selection finished\")"
      ],
      "metadata": {
        "execution": {
          "iopub.status.busy": "2023-12-06T06:50:43.331304Z",
          "iopub.execute_input": "2023-12-06T06:50:43.331716Z",
          "iopub.status.idle": "2023-12-06T06:50:43.367713Z",
          "shell.execute_reply.started": "2023-12-06T06:50:43.331684Z",
          "shell.execute_reply": "2023-12-06T06:50:43.366677Z"
        },
        "trusted": true,
        "id": "KEMR7jdC_vbT",
        "outputId": "1a123cd2-fb8c-42b0-ec75-71e12c1f4fa1"
      },
      "execution_count": null,
      "outputs": [
        {
          "name": "stdout",
          "text": "selection finished\n",
          "output_type": "stream"
        }
      ]
    },
    {
      "cell_type": "markdown",
      "source": [
        "#### Transformação de vacinações"
      ],
      "metadata": {
        "id": "-GGYxAtt_vbU"
      }
    },
    {
      "cell_type": "code",
      "source": [
        "vaccines.shape\n",
        "vaccines.info()"
      ],
      "metadata": {
        "execution": {
          "iopub.status.busy": "2023-12-06T06:50:47.109361Z",
          "iopub.execute_input": "2023-12-06T06:50:47.110325Z",
          "iopub.status.idle": "2023-12-06T06:50:47.124386Z",
          "shell.execute_reply.started": "2023-12-06T06:50:47.110273Z",
          "shell.execute_reply": "2023-12-06T06:50:47.123047Z"
        },
        "trusted": true,
        "id": "AHQ3GBYr_vbV",
        "outputId": "f45b8e75-973c-4562-d5ee-206dfae3c081"
      },
      "execution_count": null,
      "outputs": [
        {
          "name": "stdout",
          "text": "<class 'pandas.core.frame.DataFrame'>\nRangeIndex: 1428 entries, 0 to 1427\nData columns (total 7 columns):\n #   Column                   Non-Null Count  Dtype         \n---  ------                   --------------  -----         \n 0   location                 1428 non-null   object        \n 1   population               1428 non-null   float64       \n 2   total_vaccinations       695 non-null    float64       \n 3   people_vaccinated        691 non-null    float64       \n 4   people_fully_vaccinated  675 non-null    float64       \n 5   total_boosters           455 non-null    float64       \n 6   date                     1428 non-null   datetime64[ns]\ndtypes: datetime64[ns](1), float64(5), object(1)\nmemory usage: 78.2+ KB\n",
          "output_type": "stream"
        }
      ]
    },
    {
      "cell_type": "code",
      "source": [
        "# preenche os dados faltantes com o valor anterior válido mais próximo.\n",
        "vaccines = vaccines.fillna(method='ffill')\n",
        "print('fillna ffill done')"
      ],
      "metadata": {
        "execution": {
          "iopub.status.busy": "2023-12-06T06:51:23.300713Z",
          "iopub.execute_input": "2023-12-06T06:51:23.301054Z",
          "iopub.status.idle": "2023-12-06T06:51:23.308183Z",
          "shell.execute_reply.started": "2023-12-06T06:51:23.301025Z",
          "shell.execute_reply": "2023-12-06T06:51:23.306665Z"
        },
        "trusted": true,
        "id": "X1rawYI0_vbW",
        "outputId": "e211155c-c1c8-4e10-974b-0071ea9d3edc"
      },
      "execution_count": null,
      "outputs": [
        {
          "name": "stdout",
          "text": "fillna ffill done\n",
          "output_type": "stream"
        }
      ]
    },
    {
      "cell_type": "code",
      "source": [
        "# filtra a base de dados para o mesmo período de \"cases\" pela coluna `date`.\n",
        "vaccines = vaccines[(vaccines['date'] >= '2021-01-01') & (vaccines['date'] <= '2021-12-31')].reset_index(drop=True)\n",
        "print('date selection done')"
      ],
      "metadata": {
        "execution": {
          "iopub.status.busy": "2023-12-06T06:52:21.294781Z",
          "iopub.execute_input": "2023-12-06T06:52:21.295451Z",
          "iopub.status.idle": "2023-12-06T06:52:21.306999Z",
          "shell.execute_reply.started": "2023-12-06T06:52:21.295379Z",
          "shell.execute_reply": "2023-12-06T06:52:21.305335Z"
        },
        "trusted": true,
        "id": "IHs2SnSN_vbW",
        "outputId": "ded1c80d-86ca-489d-95db-140ee0434b72"
      },
      "execution_count": null,
      "outputs": [
        {
          "name": "stdout",
          "text": "date selection done\n",
          "output_type": "stream"
        }
      ]
    },
    {
      "cell_type": "code",
      "source": [
        "# ajusta o nome das colunas\n",
        "vaccines = vaccines.rename(\n",
        "  columns={\n",
        "    'location': 'country',\n",
        "    'total_vaccinations': 'total',\n",
        "    'people_vaccinated': 'one_shot',\n",
        "    'people_fully_vaccinated': 'two_shots',\n",
        "    'total_boosters': 'three_shots',\n",
        "  }\n",
        ")\n",
        "print('names adjusted')"
      ],
      "metadata": {
        "execution": {
          "iopub.status.busy": "2023-12-06T06:52:44.178182Z",
          "iopub.execute_input": "2023-12-06T06:52:44.178580Z",
          "iopub.status.idle": "2023-12-06T06:52:44.187379Z",
          "shell.execute_reply.started": "2023-12-06T06:52:44.178551Z",
          "shell.execute_reply": "2023-12-06T06:52:44.185941Z"
        },
        "trusted": true,
        "id": "d69NOpAt_vbX",
        "outputId": "6344a3d1-b50e-48cb-9b02-8d5d97f385bd"
      },
      "execution_count": null,
      "outputs": [
        {
          "name": "stdout",
          "text": "names adjusted\n",
          "output_type": "stream"
        }
      ]
    },
    {
      "cell_type": "code",
      "source": [
        "# organiza chaves temporais\n",
        "vaccines['month'] = vaccines['date'].apply(lambda date: date.strftime('%Y-%m'))\n",
        "vaccines['year']  = vaccines['date'].apply(lambda date: date.strftime('%Y'))\n",
        "print('keys adjusted')"
      ],
      "metadata": {
        "execution": {
          "iopub.status.busy": "2023-12-06T06:53:16.578355Z",
          "iopub.execute_input": "2023-12-06T06:53:16.578790Z",
          "iopub.status.idle": "2023-12-06T06:53:16.593957Z",
          "shell.execute_reply.started": "2023-12-06T06:53:16.578756Z",
          "shell.execute_reply": "2023-12-06T06:53:16.592300Z"
        },
        "trusted": true,
        "id": "ikUGk8x8_vbY",
        "outputId": "0c0b1889-9b84-4db5-be0b-cd4e10deab9a"
      },
      "execution_count": null,
      "outputs": [
        {
          "name": "stdout",
          "text": "keys adjusted\n",
          "output_type": "stream"
        }
      ]
    },
    {
      "cell_type": "code",
      "source": [
        "# relativização dos dados\n",
        "vaccines['one_shot_perc'] = round(vaccines['one_shot'] / vaccines['population'], 4)\n",
        "vaccines['two_shots_perc'] = round(vaccines['two_shots'] / vaccines['population'], 4)\n",
        "vaccines['three_shots_perc'] = round(vaccines['three_shots'] / vaccines['population'], 4)\n",
        "print('parameters extrated')"
      ],
      "metadata": {
        "execution": {
          "iopub.status.busy": "2023-12-06T06:53:40.756186Z",
          "iopub.execute_input": "2023-12-06T06:53:40.756602Z",
          "iopub.status.idle": "2023-12-06T06:53:40.768987Z",
          "shell.execute_reply.started": "2023-12-06T06:53:40.756565Z",
          "shell.execute_reply": "2023-12-06T06:53:40.767269Z"
        },
        "trusted": true,
        "id": "JYVR1xZ9_vbZ",
        "outputId": "ab920ec3-f545-42fd-9083-1d49e3e5cbb9"
      },
      "execution_count": null,
      "outputs": [
        {
          "name": "stdout",
          "text": "parameters extrated\n",
          "output_type": "stream"
        }
      ]
    },
    {
      "cell_type": "code",
      "source": [
        "# padroniza o tipo dos dados - type casting\n",
        "vaccines['population'] = vaccines['population'].astype('Int64')\n",
        "vaccines['total'] = vaccines['total'].astype('Int64')\n",
        "vaccines['one_shot'] = vaccines['one_shot'].astype('Int64')\n",
        "vaccines['two_shots'] = vaccines['two_shots'].astype('Int64')\n",
        "vaccines['three_shots'] = vaccines['three_shots'].astype('Int64')\n",
        "print('type casting done')"
      ],
      "metadata": {
        "execution": {
          "iopub.status.busy": "2023-12-06T06:53:56.453055Z",
          "iopub.execute_input": "2023-12-06T06:53:56.453402Z",
          "iopub.status.idle": "2023-12-06T06:53:56.466573Z",
          "shell.execute_reply.started": "2023-12-06T06:53:56.453374Z",
          "shell.execute_reply": "2023-12-06T06:53:56.465112Z"
        },
        "trusted": true,
        "id": "FP-zroNs_vba",
        "outputId": "89aa18dc-1e5c-42f0-eaa5-ce818ae96689"
      },
      "execution_count": null,
      "outputs": [
        {
          "name": "stdout",
          "text": "type casting done\n",
          "output_type": "stream"
        }
      ]
    },
    {
      "cell_type": "code",
      "source": [
        "# reorganizar as colunas\n",
        "vaccines = vaccines[['date', 'country', 'population', 'total', 'one_shot', 'one_shot_perc', 'two_shots', 'two_shots_perc', 'three_shots', 'three_shots_perc', 'month', 'year']]\n",
        "vaccines.tail()\n",
        "print('columns adjusted')"
      ],
      "metadata": {
        "execution": {
          "iopub.status.busy": "2023-12-06T06:54:17.024998Z",
          "iopub.execute_input": "2023-12-06T06:54:17.025387Z",
          "iopub.status.idle": "2023-12-06T06:54:17.034884Z",
          "shell.execute_reply.started": "2023-12-06T06:54:17.025353Z",
          "shell.execute_reply": "2023-12-06T06:54:17.033657Z"
        },
        "trusted": true,
        "id": "39NdFr8U_vbb",
        "outputId": "e4f0ef18-80e2-4e7e-ffa5-d158f79d600a"
      },
      "execution_count": null,
      "outputs": [
        {
          "name": "stdout",
          "text": "columns adjusted\n",
          "output_type": "stream"
        }
      ]
    },
    {
      "cell_type": "markdown",
      "source": [
        "#### Carregamento de vacinações"
      ],
      "metadata": {
        "id": "so9AqaCd_vbb"
      }
    },
    {
      "cell_type": "code",
      "source": [
        "# salva em './covid-vaccines.csv'\n",
        "vaccines.to_csv('./covid-vaccines.csv', sep=',', index=False)\n",
        "print('CSV dataframe saved')"
      ],
      "metadata": {
        "execution": {
          "iopub.status.busy": "2023-12-06T06:54:35.475038Z",
          "iopub.execute_input": "2023-12-06T06:54:35.475432Z",
          "iopub.status.idle": "2023-12-06T06:54:35.487036Z",
          "shell.execute_reply.started": "2023-12-06T06:54:35.475401Z",
          "shell.execute_reply": "2023-12-06T06:54:35.485999Z"
        },
        "trusted": true,
        "id": "e0OdDNTG_vbc",
        "outputId": "23fcd6cf-2676-430a-dc6a-643693c1df89"
      },
      "execution_count": null,
      "outputs": [
        {
          "name": "stdout",
          "text": "CSV dataframe saved\n",
          "output_type": "stream"
        }
      ]
    },
    {
      "cell_type": "markdown",
      "source": [
        "## Dashboard Interativo\n",
        "    \n",
        "* #### **Dashboard Interativo**: [Looker Studio](https://lookerstudio.google.com/reporting/f923059d-f701-4b2d-9a40-8b254d2f6350) ou através do link https://lookerstudio.google.com/s/m4rwlEFb50s    \n",
        "\n",
        "    \n",
        "### **KPIs**\n",
        "O dashboard de dados contem os seguintes indicadores chaves de desempenho (*key performance indicator* ou KPI) consolidados:\n",
        "1. Casos e mortes nas 24 horas;\n",
        "1. Média móvel (7 dias) de casos e mortes;\n",
        "1. Tendência de casos e mortes;\n",
        "1. Proporção de vacinados com 1ª, 2ª e 3ª doses.\n",
        "\n",
        "### **EDA**\n",
        "O dashboard de dados contem os seguintes gráficos para a análise exploratória de dados (*exploratory data analysis*\n",
        "ou EDA) interativa:\n",
        "1. Distribuição do números de casos e mortes ao longo do tempo;\n",
        "1. Distribuição da média móvel (7 dias) do números de casos e mortes ao longo do tempo;\n",
        "1. Distribuição geográfica dos casos por estado por dia."
      ],
      "metadata": {
        "id": "GY08OLQl_vbd"
      }
    }
  ]
}