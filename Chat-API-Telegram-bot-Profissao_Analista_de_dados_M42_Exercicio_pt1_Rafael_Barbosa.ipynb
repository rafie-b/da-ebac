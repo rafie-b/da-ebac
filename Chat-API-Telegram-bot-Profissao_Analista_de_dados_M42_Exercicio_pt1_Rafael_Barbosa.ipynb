{
  "nbformat": 4,
  "nbformat_minor": 0,
  "metadata": {
    "colab": {
      "provenance": []
    },
    "kernelspec": {
      "name": "python3",
      "display_name": "Python 3"
    }
  },
  "cells": [
    {
      "cell_type": "markdown",
      "metadata": {
        "id": "KJqp9AANOCtf"
      },
      "source": [
        "<img src=\"https://raw.githubusercontent.com/andre-marcos-perez/ebac-course-utils/main/media/logo/newebac_logo_black_half.png\" alt=\"ebac-logo\">\n",
        "\n",
        "---\n",
        "\n",
        "# **Módulo** | Pipeline de Dados do Telegram I\n",
        "Caderno de **Exercícios**<br>\n",
        "Professor [André Perez](https://www.linkedin.com/in/andremarcosperez/)<br>\n",
        "Aluno [Rafael Barbosa](https://www.linkedin.com/in/barbosa89/)\n",
        "\n",
        "---"
      ]
    },
    {
      "cell_type": "markdown",
      "metadata": {
        "id": "ne7Ay0HKaGSv"
      },
      "source": [
        "## 1\\. Telegram\n",
        "\n",
        "O **Telegram** representa a fonte transacional de dados.\n",
        "\n",
        "Vamos **criar um *bot*** e **criar um grupo** com *bot* adicionado.\n",
        "\n",
        " **Todas** as mensagens enviadas no grupo serão captadas pelo *bot* e trabalhadas através da API (*application programming interface*) de *bots* do **Telegram** (documentação neste [link](https://core.telegram.org/bots/api))."
      ]
    },
    {
      "cell_type": "markdown",
      "source": [
        "### **1.1.** Criar um *bot* no Telegram:\n",
        "\n",
        "- Faça login na versão `web` do aplicativo através desse [link](https://web.telegram.org). Uma conta ativa será necessária para este passo.\n",
        "\n",
        "- Na barra de **Pesquisa** digite `BotFather`, abra o *chat* marcado como verificado, e aperte \"start\";\n",
        "\n",
        "![](https://github.com/rafie-b/Profession-Data-Analyst/blob/main/M42%20images/abrir-chat-botfather.png?raw=true)\n",
        "\n",
        "- No chat, retorne `/newbot`, o nome do *bot* e o nome de usuário do *bot* (precisa terminar com sufixo `_bot`);\n",
        "\n",
        "![](https://github.com/rafie-b/Profession-Data-Analyst/blob/main/M42%20images/criar-novo-bot.png?raw=true)\n",
        "\n",
        "- Salve o `token` de acesso da API HTTP em local seguro."
      ],
      "metadata": {
        "id": "E69nBHvAa_O5"
      }
    },
    {
      "cell_type": "markdown",
      "source": [
        "### **1.2.** Criar um grupo e descrevê-lo, adicionar o *bot* como administrador e desabilitá-lo para novos grupos:\n",
        "\n",
        "- Aperte o botão com o ícone de um \"lápis\" e selecione `New Group`;\n",
        "\n",
        "![](https://github.com/rafie-b/Profession-Data-Analyst/blob/main/M42%20images/criar-grupo.png?raw=true)\n",
        "\n",
        "- Digite e selecione o nome do *bot* recém criado, aperte no ícone de seta, digite o nome do grupo e aperte na seta novamente.\n",
        "\n",
        "![](https://github.com/rafie-b/Profession-Data-Analyst/blob/main/M42%20images/novo-grupo-bot.png?raw=true)\n",
        "\n",
        "- Abra o *chat* do grupo, aperte no ícone do grupo, aperte no ícone com um lápis para editar, no campo de descrição escreva **\"Atenção, todas as mensagens são armazenadas pelo *bot* do grupo\"**, e aperte o botão de confirmação para salvar as alterações;\n",
        "\n",
        "![](https://github.com/rafie-b/Profession-Data-Analyst/blob/main/M42%20images/add-descri%C3%A7%C3%A3o.png?raw=true)\n",
        "\n",
        "- Selecione `Administrators`, aperte no ícone para adiocionar um usuário, selecione o *bot* e aperte o botão de *check*, ou \"V\", para salvar.\n",
        "\n",
        "![](https://github.com/rafie-b/Profession-Data-Analyst/blob/main/M42%20images/add-bot-admin.png?raw=true)\n",
        "\n",
        "- Para que ele não possa ser adicionado a outros grupos abra o *chat* com o **`BotFather`**, digite `/mybots` e selecione o *bot* pelo seu nome de usuário;\n",
        "\n",
        "![](https://github.com/rafie-b/Profession-Data-Analyst/blob/main/M42%20images/my-bots.png?raw=true)\n",
        "\n",
        "- Selecione `Bot Settings`, `Allow Groups?` e `Turn groups off`.\n",
        "\n",
        "![](https://github.com/rafie-b/Profession-Data-Analyst/blob/main/M42%20images/desliga-grupos.png?raw=true)"
      ],
      "metadata": {
        "id": "8oTn1Z1Md2GQ"
      }
    },
    {
      "cell_type": "markdown",
      "source": [
        "### **1.3.** Extrair dados das mensagens do grupo através da API\n",
        "\n",
        "Enviar mensagens no grupo (text, imagem, arquivos, video, áudio, etc.) e as consumir através da API de *bots* do **Telegram**."
      ],
      "metadata": {
        "id": "t4PyML7VUPBd"
      }
    },
    {
      "cell_type": "markdown",
      "source": [
        "> **Nota:** A documentação completa da API pode ser encontrada neste [link](https://core.telegram.org/bots/api)"
      ],
      "metadata": {
        "id": "c4MXmvWMUetr"
      }
    },
    {
      "cell_type": "code",
      "source": [
        "### guarda o API token do bot\n",
        "\n",
        "from getpass import getpass\n",
        "\n",
        "print('Digite o API token do Telegram bot')\n",
        "token = getpass()\n",
        "\n",
        "### guarda base_url comum para todos os métodos da API\n",
        "\n",
        "base_url = f'https://api.telegram.org/bot{token}'"
      ],
      "metadata": {
        "id": "y3idc49neaRt",
        "colab": {
          "base_uri": "https://localhost:8080/"
        },
        "outputId": "f969b448-9c97-4490-da9b-f2ac065199bf"
      },
      "execution_count": 1,
      "outputs": [
        {
          "name": "stdout",
          "output_type": "stream",
          "text": [
            "Digite o API token do Telegram bot\n",
            "··········\n"
          ]
        }
      ]
    },
    {
      "cell_type": "code",
      "source": [
        "### O método getMe retorna informações sobre o bot\n",
        "\n",
        "import requests\n",
        "import json\n",
        "\n",
        "response_me = requests.get(url=f'{base_url}/getMe')\n",
        "print(json.dumps(json.loads(response_me.text), indent=2))"
      ],
      "metadata": {
        "colab": {
          "base_uri": "https://localhost:8080/"
        },
        "id": "bVzdHr1yReq9",
        "outputId": "a738a842-38db-411b-9519-7585235d4cfd"
      },
      "execution_count": 2,
      "outputs": [
        {
          "output_type": "stream",
          "name": "stdout",
          "text": [
            "{\n",
            "  \"ok\": true,\n",
            "  \"result\": {\n",
            "    \"id\": 7084060512,\n",
            "    \"is_bot\": true,\n",
            "    \"first_name\": \"ebac_m42_bot\",\n",
            "    \"username\": \"ebacm42_bot\",\n",
            "    \"can_join_groups\": false,\n",
            "    \"can_read_all_group_messages\": false,\n",
            "    \"supports_inline_queries\": false\n",
            "  }\n",
            "}\n"
          ]
        }
      ]
    },
    {
      "cell_type": "code",
      "source": [
        "### O método getUpdates retorna as mensagens e suas informações captadas pelo bot\n",
        "\n",
        "from abc import update_abstractmethods\n",
        "\n",
        "response = requests.get(url=f'{base_url}/getUpdates')\n",
        "\n",
        "# print(json.dumps(json.loads(response.text), indent=2))"
      ],
      "metadata": {
        "id": "nsErUF53Rhhf"
      },
      "execution_count": 3,
      "outputs": []
    },
    {
      "cell_type": "code",
      "source": [
        "### carrega no dict \"parsed_data\" as informacoes extraidas atraves da API\n",
        "from datetime import datetime\n",
        "import json\n",
        "\n",
        "### cria dict \"parsed_data\" vazio onde as informacoes de mensagens serão alocadas\n",
        "parsed_data = dict()\n",
        "\n",
        "## escreve o conteudo de getUpdates no telegram.json\n",
        "with open(\"telegram.json\", \"w\") as file:\n",
        "  file.write(json.dumps(json.loads(response.text), indent=2))\n",
        "\n",
        "## carrega telegram.json no dict \"updates\"\n",
        "with open('telegram.json', mode='r', encoding='utf8') as fp:\n",
        "  updates = json.load(fp)\n",
        "\n",
        "### define variáveis de data de extracao de dados\n",
        "date = datetime.now().strftime('%Y-%m-%d')\n",
        "timestamp = datetime.now().strftime('%Y-%m-%d %H:%M:%S')\n",
        "\n",
        "### varredura em todos os itens do dict \"result\"\n",
        "for data in updates['result']:\n",
        "    data = data[\"message\"]\n",
        "\n",
        "    parser = dict() # dict para armazenar chaves e valores de cada iteracao\n",
        "\n",
        "    ### varredura em todos os itens do dict \"message\"\n",
        "    for key, value in data.items():\n",
        "        if key == 'from':\n",
        "            for k, v in data[key].items():  ### varredura em todos os itens do dict \"from\"\n",
        "                if k in ['id', 'is_bot', 'first_name']:\n",
        "                  parser[f\"{key if key == 'chat' else 'user'}_{k}\"] = [v]\n",
        "\n",
        "        elif key == 'chat':\n",
        "            for k, v in data[key].items(): ### varredura em todos os itens do dict \"chat\"\n",
        "                if k in ['id', 'type']:\n",
        "                  parser[f\"{key if key == 'chat' else 'user'}_{k}\"] = [v]\n",
        "\n",
        "        elif key in ['message_id', 'date', 'text']:\n",
        "            parser[key] = [value]\n",
        "\n",
        "    ### se a chave \"text\" nao for encontrada o valor None sera atribuido a chave \"text\"\n",
        "    if not 'text' in parser.keys():\n",
        "      parser['text'] = [None]\n",
        "\n",
        "    ### carrega as chaves de data de processamento\n",
        "    parser['context_date'] = [date]\n",
        "    parser['context_timestamp'] = [timestamp]\n",
        "\n",
        "    ### atualiza o dict \"parsed_data\" adicionando os valores da iteracao a cada chave correspondente\n",
        "    for key, value in parser.items():\n",
        "      if key in parsed_data:\n",
        "          parsed_data[key] += value  # Extend the existing list with new values\n",
        "      else:\n",
        "          parsed_data[key] = value  # if doesnt exist add the new key-value pair to the existing dictionary"
      ],
      "metadata": {
        "id": "qve7j2AqSo8k"
      },
      "execution_count": 4,
      "outputs": []
    },
    {
      "cell_type": "code",
      "source": [
        "### visualiza os dados armazenados no dict \"parsed_data\"\n",
        "print(type(parsed_data))\n",
        "for k, v in parsed_data.items():\n",
        "  print(f\"{k}: {v}\")"
      ],
      "metadata": {
        "colab": {
          "base_uri": "https://localhost:8080/"
        },
        "id": "dzBbXvvvCh_8",
        "outputId": "235bc566-3ad2-4d5d-fa86-9ddde64d124f"
      },
      "execution_count": 5,
      "outputs": [
        {
          "output_type": "stream",
          "name": "stdout",
          "text": [
            "<class 'dict'>\n",
            "message_id: [14, 15, 16, 17, 18, 19, 20]\n",
            "user_id: [7162819601, 7162819601, 7162819601, 7162819601, 7162819601, 7162819601, 7162819601]\n",
            "user_is_bot: [False, False, False, False, False, False, False]\n",
            "user_first_name: ['Rafie', 'Rafie', 'Rafie', 'Rafie', 'Rafie', 'Rafie', 'Rafie']\n",
            "chat_id: [-1001993072220, -1001993072220, -1001993072220, -1001993072220, -1001993072220, -1001993072220, -1001993072220]\n",
            "chat_type: ['supergroup', 'supergroup', 'supergroup', 'supergroup', 'supergroup', 'supergroup', 'supergroup']\n",
            "date: [1710613562, 1710613607, 1710613696, 1710613707, 1710613714, 1710614580, 1710620050]\n",
            "text: [None, None, None, 'messages', 'from newday', None, 'exercise finish']\n",
            "context_date: ['2024-03-16', '2024-03-16', '2024-03-16', '2024-03-16', '2024-03-16', '2024-03-16', '2024-03-16']\n",
            "context_timestamp: ['2024-03-16 23:45:21', '2024-03-16 23:45:21', '2024-03-16 23:45:21', '2024-03-16 23:45:21', '2024-03-16 23:45:21', '2024-03-16 23:45:21', '2024-03-16 23:45:21']\n"
          ]
        }
      ]
    },
    {
      "cell_type": "code",
      "source": [
        "### cria uma tabela pyArrow a partir do dict \"parsed_data\"\n",
        "import pyarrow as pa\n",
        "\n",
        "table = pa.Table.from_pydict(mapping=parsed_data)\n",
        "\n",
        "print(type(table))\n",
        "table"
      ],
      "metadata": {
        "id": "olyHF0iTYi8X",
        "colab": {
          "base_uri": "https://localhost:8080/"
        },
        "outputId": "98ddab91-6cfc-4bd2-be64-cd233ee28771"
      },
      "execution_count": 6,
      "outputs": [
        {
          "output_type": "stream",
          "name": "stdout",
          "text": [
            "<class 'pyarrow.lib.Table'>\n"
          ]
        },
        {
          "output_type": "execute_result",
          "data": {
            "text/plain": [
              "pyarrow.Table\n",
              "message_id: int64\n",
              "user_id: int64\n",
              "user_is_bot: bool\n",
              "user_first_name: string\n",
              "chat_id: int64\n",
              "chat_type: string\n",
              "date: int64\n",
              "text: string\n",
              "context_date: string\n",
              "context_timestamp: string\n",
              "----\n",
              "message_id: [[14,15,16,17,18,19,20]]\n",
              "user_id: [[7162819601,7162819601,7162819601,7162819601,7162819601,7162819601,7162819601]]\n",
              "user_is_bot: [[false,false,false,false,false,false,false]]\n",
              "user_first_name: [[\"Rafie\",\"Rafie\",\"Rafie\",\"Rafie\",\"Rafie\",\"Rafie\",\"Rafie\"]]\n",
              "chat_id: [[-1001993072220,-1001993072220,-1001993072220,-1001993072220,-1001993072220,-1001993072220,-1001993072220]]\n",
              "chat_type: [[\"supergroup\",\"supergroup\",\"supergroup\",\"supergroup\",\"supergroup\",\"supergroup\",\"supergroup\"]]\n",
              "date: [[1710613562,1710613607,1710613696,1710613707,1710613714,1710614580,1710620050]]\n",
              "text: [[null,null,null,\"messages\",\"from newday\",null,\"exercise finish\"]]\n",
              "context_date: [[\"2024-03-16\",\"2024-03-16\",\"2024-03-16\",\"2024-03-16\",\"2024-03-16\",\"2024-03-16\",\"2024-03-16\"]]\n",
              "context_timestamp: [[\"2024-03-16 23:45:21\",\"2024-03-16 23:45:21\",\"2024-03-16 23:45:21\",\"2024-03-16 23:45:21\",\"2024-03-16 23:45:21\",\"2024-03-16 23:45:21\",\"2024-03-16 23:45:21\"]]"
            ]
          },
          "metadata": {},
          "execution_count": 6
        }
      ]
    }
  ]
}