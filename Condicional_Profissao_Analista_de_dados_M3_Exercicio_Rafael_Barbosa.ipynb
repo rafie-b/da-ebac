{
  "cells": [
    {
      "cell_type": "markdown",
      "metadata": {
        "id": "KJqp9AANOCtf"
      },
      "source": [
        "<img src=\"https://raw.githubusercontent.com/andre-marcos-perez/ebac-course-utils/main/media/logo/newebac_logo_black_half.png\" alt=\"ebac-logo\">\n",
        "\n",
        "---\n",
        "\n",
        "# **Módulo** | Python: Fluxo Condicional & Repetição\n",
        "Caderno de **Exercícios**<br>\n",
        "Professor [André Perez](https://www.linkedin.com/in/andremarcosperez/)<br>\n",
        "Aluno [Rafael Barbosa](https://www.linkedin.com/in/barbosa89/)\n",
        "\n",
        "---"
      ]
    },
    {
      "cell_type": "markdown",
      "metadata": {
        "id": "d9jDtUbDOE1-"
      },
      "source": [
        "# **Tópicos**\n",
        "\n",
        "<ol type=\"1\">\n",
        "  <li>Estrutura condicional if / else / elif;</li>\n",
        "  <li>Estrutura condicional try / catch / finally;</li>\n",
        "  <li>Estrutura de repetição for / in.</li>\n",
        "</ol>"
      ]
    },
    {
      "cell_type": "markdown",
      "metadata": {
        "id": "SmoHgt-lwkpD"
      },
      "source": [
        "---"
      ]
    },
    {
      "cell_type": "markdown",
      "metadata": {
        "id": "GABI6OW8OfQ2"
      },
      "source": [
        "# **Exercícios**"
      ]
    },
    {
      "cell_type": "markdown",
      "metadata": {
        "id": "alcB9Hx-5LEV"
      },
      "source": [
        "## 1\\. Estrutura condicional for / in"
      ]
    },
    {
      "cell_type": "markdown",
      "metadata": {
        "id": "rwA9WB0V5LEV"
      },
      "source": [
        "Na lista `propaganda_online` abaixo, estão presente os dados de usuários que acessaram um determinado site e se o mesmo clicou em uma propaganda."
      ]
    },
    {
      "cell_type": "code",
      "execution_count": 64,
      "metadata": {
        "id": "OZnMxwiz5LEV"
      },
      "outputs": [],
      "source": [
        "propaganda_online = [\n",
        "  {'tempo_gasto_site': 68.95, 'idade': 35, 'renda_area': 61833.90, 'tempo_gasto_internet': 256.09, 'cidade': 'Wrightburgh', 'pais': 'Tunisia', 'clicou_no_ad': 0},\n",
        "  {'tempo_gasto_site': 80.23, 'idade': 31, 'renda_area': 68441.85, 'tempo_gasto_internet': 193.77, 'cidade': 'West Jodi', 'pais': 'Nauru', 'clicou_no_ad': 0},\n",
        "  {'tempo_gasto_site': 69.47, 'idade': 26, 'renda_area': 59785.94, 'tempo_gasto_internet': 236.50, 'cidade': 'Davidton', 'pais': 'San Marino', 'clicou_no_ad': 0},\n",
        "  {'tempo_gasto_site': 68.37, 'idade': 35, 'renda_area': 73889.99, 'tempo_gasto_internet': 225.58, 'cidade': 'South Manuel', 'pais': 'Iceland', 'clicou_no_ad': 0},\n",
        "  {'tempo_gasto_site': 88.91, 'idade': 33, 'renda_area': 53852.85, 'tempo_gasto_internet': 208.36, 'cidade': 'Brandonstad', 'pais': 'Myanmar', 'clicou_no_ad': 0},\n",
        "  {'tempo_gasto_site': None, 'idade': 48, 'renda_area': 24593.33, 'tempo_gasto_internet': 131.76, 'cidade': 'Port Jefferybury', 'pais': 'Australia', 'clicou_no_ad': 1},\n",
        "  {'tempo_gasto_site': 74.53, 'idade': 30, 'renda_area': 68862.00, 'tempo_gasto_internet': 221.51, 'cidade': 'West Colin', 'pais': 'Grenada'},\n",
        "  {'tempo_gasto_site': 69.88, 'idade': 20, 'renda_area': 55642.32, 'tempo_gasto_internet': 183.82, 'cidade': 'Ramirezton', 'pais': 'Ghana', 'clicou_no_ad': 0}\n",
        "]"
      ]
    },
    {
      "cell_type": "code",
      "execution_count": 2,
      "metadata": {
        "id": "cyMWqs_t8pWA",
        "outputId": "ff28b948-94a6-4a98-df1b-8b183a0ba942",
        "colab": {
          "base_uri": "https://localhost:8080/"
        }
      },
      "outputs": [
        {
          "output_type": "stream",
          "name": "stdout",
          "text": [
            "{'tempo_gasto_site': 68.95, 'idade': 35, 'renda_area': 61833.9, 'tempo_gasto_internet': 256.09, 'cidade': 'Wrightburgh', 'pais': 'Tunisia', 'clicou_no_ad': 0}\n",
            "{'tempo_gasto_site': 80.23, 'idade': 31, 'renda_area': 68441.85, 'tempo_gasto_internet': 193.77, 'cidade': 'West Jodi', 'pais': 'Nauru', 'clicou_no_ad': 0}\n",
            "{'tempo_gasto_site': 69.47, 'idade': 26, 'renda_area': 59785.94, 'tempo_gasto_internet': 236.5, 'cidade': 'Davidton', 'pais': 'San Marino', 'clicou_no_ad': 0}\n",
            "{'tempo_gasto_site': 68.37, 'idade': 35, 'renda_area': 73889.99, 'tempo_gasto_internet': 225.58, 'cidade': 'South Manuel', 'pais': 'Iceland', 'clicou_no_ad': 0}\n",
            "{'tempo_gasto_site': 88.91, 'idade': 33, 'renda_area': 53852.85, 'tempo_gasto_internet': 208.36, 'cidade': 'Brandonstad', 'pais': 'Myanmar', 'clicou_no_ad': 0}\n",
            "{'tempo_gasto_site': None, 'idade': 48, 'renda_area': 24593.33, 'tempo_gasto_internet': 131.76, 'cidade': 'Port Jefferybury', 'pais': 'Australia', 'clicou_no_ad': 1}\n",
            "{'tempo_gasto_site': 74.53, 'idade': 30, 'renda_area': 68862.0, 'tempo_gasto_internet': 221.51, 'cidade': 'West Colin', 'pais': 'Grenada'}\n",
            "{'tempo_gasto_site': 69.88, 'idade': 20, 'renda_area': 55642.32, 'tempo_gasto_internet': 183.82, 'cidade': 'Ramirezton', 'pais': 'Ghana', 'clicou_no_ad': 0}\n"
          ]
        }
      ],
      "source": [
        "for dado_de_usuario in propaganda_online:\n",
        "  print(dado_de_usuario)"
      ]
    },
    {
      "cell_type": "markdown",
      "metadata": {
        "id": "3hfaj4oo5LEX"
      },
      "source": [
        "1.1. Imprime os seguintes valores da lista:\n",
        "`tempo_gasto_site` e `idade`\n",
        "\n",
        "Dica: Utilize os conceitos de chave e valor de elementos de uma lista para selecionar os valores de uma chave (lista[chave]), conforme exemplo abaixo, na qual imprime somente os dados da chave `cidade`:"
      ]
    },
    {
      "cell_type": "code",
      "execution_count": 13,
      "metadata": {
        "id": "9xWI4Q5v5LEX",
        "outputId": "e5bb091d-75ea-4308-9265-864d67c461e0",
        "colab": {
          "base_uri": "https://localhost:8080/"
        }
      },
      "outputs": [
        {
          "output_type": "stream",
          "name": "stdout",
          "text": [
            "Wrightburgh\n",
            "West Jodi\n",
            "Davidton\n",
            "South Manuel\n",
            "Brandonstad\n",
            "Port Jefferybury\n",
            "West Colin\n",
            "Ramirezton\n"
          ]
        }
      ],
      "source": [
        "for dado_de_usuario in propaganda_online:\n",
        "    print(dado_de_usuario['cidade'])"
      ]
    },
    {
      "cell_type": "code",
      "source": [
        "#Imprime \"tempo_gasto_site\" e \"idade\" para todos \"dado_de_usuario\".\n",
        "\n",
        "for dado_de_usuario in propaganda_online:\n",
        "  print(f'tempo_gasto_site:{dado_de_usuario[\"tempo_gasto_site\"]} | idade:{dado_de_usuario[\"idade\"]} ')"
      ],
      "metadata": {
        "colab": {
          "base_uri": "https://localhost:8080/"
        },
        "id": "WGZ5GLIwQ11u",
        "outputId": "de66a522-e716-422c-a9f4-1a82da4cb2f3"
      },
      "execution_count": 94,
      "outputs": [
        {
          "output_type": "stream",
          "name": "stdout",
          "text": [
            "tempo_gasto_site:68.95 | idade:35 \n",
            "tempo_gasto_site:80.23 | idade:31 \n",
            "tempo_gasto_site:69.47 | idade:26 \n",
            "tempo_gasto_site:68.37 | idade:35 \n",
            "tempo_gasto_site:88.91 | idade:33 \n",
            "tempo_gasto_site:None | idade:48 \n",
            "tempo_gasto_site:74.53 | idade:30 \n",
            "tempo_gasto_site:69.88 | idade:20 \n"
          ]
        }
      ]
    },
    {
      "cell_type": "markdown",
      "metadata": {
        "id": "EznQsI0y5LEX"
      },
      "source": [
        "Extrair os valores da chave tempo_gasto_site"
      ]
    },
    {
      "cell_type": "code",
      "execution_count": 112,
      "metadata": {
        "id": "ElR3a-2C5LEY",
        "colab": {
          "base_uri": "https://localhost:8080/"
        },
        "outputId": "ce56b1de-5f5a-414b-ce47-2a2e1dd1671b"
      },
      "outputs": [
        {
          "output_type": "stream",
          "name": "stdout",
          "text": [
            "[68.95, 80.23, 69.47, 68.37, 88.91, None, 74.53, 69.88]\n"
          ]
        }
      ],
      "source": [
        "extrair_1_2=[]\n",
        "for dado_de_usuario in propaganda_online:\n",
        "  extrair_1_2.append(dado_de_usuario[\"tempo_gasto_site\"])\n",
        "print(extrair_1_2)"
      ]
    },
    {
      "cell_type": "markdown",
      "metadata": {
        "id": "o23o7p1g5LEY"
      },
      "source": [
        "Extrair os valores da chave idade"
      ]
    },
    {
      "cell_type": "code",
      "execution_count": 113,
      "metadata": {
        "id": "1Pn2xuO45LEY",
        "colab": {
          "base_uri": "https://localhost:8080/"
        },
        "outputId": "02a01351-4fb7-4b20-fb12-23ccbb223662"
      },
      "outputs": [
        {
          "output_type": "stream",
          "name": "stdout",
          "text": [
            "[35, 31, 26, 35, 33, 48, 30, 20]\n"
          ]
        }
      ],
      "source": [
        "extrair_1_3=[]\n",
        "for dado_de_usuario in propaganda_online:\n",
        "  extrair_1_3.append(dado_de_usuario[\"idade\"])\n",
        "print(extrair_1_3)"
      ]
    },
    {
      "cell_type": "markdown",
      "metadata": {
        "id": "SAMpg_975LEY"
      },
      "source": [
        "## 2\\. Estrutura condicional if / else"
      ]
    },
    {
      "cell_type": "markdown",
      "metadata": {
        "id": "QciRcGi35LEY"
      },
      "source": [
        "2.1. Utilize a estrutura if/else para imprimir a cidade dos usuários que gastaram mais de 100 horas de tempo na internet\n",
        "\n",
        "Dica: Após a iteração dos elementos da lista (Através da estrutura condicional FOR),  utilize a estrutura if/else para criar a condição dos valores da chave `tempo_gasto_internet`"
      ]
    },
    {
      "cell_type": "code",
      "execution_count": 66,
      "metadata": {
        "id": "iJRwSe9y5LEY",
        "colab": {
          "base_uri": "https://localhost:8080/"
        },
        "outputId": "1d9e295c-1771-49bb-e8eb-0b9c0c859f55"
      },
      "outputs": [
        {
          "output_type": "stream",
          "name": "stdout",
          "text": [
            "Usuário com tempo menor que 100.\n",
            "Usuário com tempo menor que 100.\n",
            "Usuário com tempo menor que 100.\n",
            "Usuário com tempo menor que 100.\n",
            "Usuário com tempo menor que 100.\n",
            "tempo_gasto_site: None\n",
            "Usuário com tempo menor que 100.\n",
            "Usuário com tempo menor que 100.\n"
          ]
        }
      ],
      "source": [
        "for dado_de_usuario in propaganda_online:\n",
        "  #Verificação de variável não numérica None\n",
        "  if (dado_de_usuario['tempo_gasto_site']) == None:\n",
        "    print('tempo_gasto_site:',dado_de_usuario['tempo_gasto_site'])\n",
        "  else:\n",
        "    if (dado_de_usuario['tempo_gasto_site'])>100:\n",
        "      print(f'A cidade do usuário é {dado_de_usuario[\"cidade\"]}')\n",
        "    else:\n",
        "      print(f'Usuário com tempo menor que 100.')"
      ]
    },
    {
      "cell_type": "markdown",
      "metadata": {
        "id": "Iua9_lQo5LEY"
      },
      "source": [
        "## 3\\. Estrutura condicional try / except"
      ]
    },
    {
      "cell_type": "markdown",
      "metadata": {
        "id": "F7Vs25bq5LEY"
      },
      "source": [
        "3.1. Utilize a estrutura try/except para imprimir as cidades dos usuários que passaram mais de 70 segundos no site.\n",
        "\n",
        "Dica: Realize o tratamento de exceções dentro da execução da iteração dos elementos da lista"
      ]
    },
    {
      "cell_type": "code",
      "execution_count": 77,
      "metadata": {
        "id": "HJU_zItJ5LEZ",
        "colab": {
          "base_uri": "https://localhost:8080/"
        },
        "outputId": "d478b119-6a5e-44e5-e898-573040a3232f"
      },
      "outputs": [
        {
          "output_type": "stream",
          "name": "stdout",
          "text": [
            "Usuário com tempo menor que 70.\n",
            "A cidade do usuário é West Jodi\n",
            "Usuário com tempo menor que 70.\n",
            "Usuário com tempo menor que 70.\n",
            "A cidade do usuário é Brandonstad\n",
            "tempo_gasto_site: None\n",
            "A cidade do usuário é West Colin\n",
            "Usuário com tempo menor que 70.\n"
          ]
        }
      ],
      "source": [
        "for dado_de_usuario in propaganda_online:\n",
        "    try:\n",
        "        if (dado_de_usuario['tempo_gasto_site'])>70:\n",
        "          print(f'A cidade do usuário é {dado_de_usuario[\"cidade\"]}')\n",
        "        else:\n",
        "          print(f'Usuário com tempo menor que 70.')\n",
        "    except Exception:\n",
        "      print('tempo_gasto_site:',dado_de_usuario['tempo_gasto_site'])"
      ]
    }
  ],
  "metadata": {
    "colab": {
      "provenance": []
    },
    "kernelspec": {
      "display_name": "Python 3 (ipykernel)",
      "language": "python",
      "name": "python3"
    },
    "language_info": {
      "codemirror_mode": {
        "name": "ipython",
        "version": 3
      },
      "file_extension": ".py",
      "mimetype": "text/x-python",
      "name": "python",
      "nbconvert_exporter": "python",
      "pygments_lexer": "ipython3",
      "version": "3.9.7"
    }
  },
  "nbformat": 4,
  "nbformat_minor": 0
}