{
  "nbformat": 4,
  "nbformat_minor": 0,
  "metadata": {
    "colab": {
      "provenance": [],
      "toc_visible": true
    },
    "kernelspec": {
      "name": "python3",
      "display_name": "Python 3"
    }
  },
  "cells": [
    {
      "cell_type": "markdown",
      "metadata": {
        "id": "KJqp9AANOCtf"
      },
      "source": [
        "<img src=\"https://raw.githubusercontent.com/andre-marcos-perez/ebac-course-utils/main/media/logo/newebac_logo_black_half.png\" alt=\"ebac-logo\">\n",
        "\n",
        "---\n",
        "\n",
        "# **Módulo** | Python: Estruturas de Dados\n",
        "Caderno de **Exercícios**<br>\n",
        "Professor [André Perez](https://www.linkedin.com/in/andremarcosperez/)<br>\n",
        "Aluno [Rafael Barbosa](https://www.linkedin.com/in/barbosa89/)\n",
        "\n",
        "---"
      ]
    },
    {
      "cell_type": "markdown",
      "metadata": {
        "id": "d9jDtUbDOE1-"
      },
      "source": [
        "# **Tópicos**\n",
        "\n",
        "<ol type=\"1\">\n",
        "  <li>Listas;</li>\n",
        "  <li>Conjuntos;</li>\n",
        "  <li>Dicionários.</li>\n",
        "</ol>"
      ]
    },
    {
      "cell_type": "markdown",
      "metadata": {
        "id": "SmoHgt-lwkpD"
      },
      "source": [
        "---"
      ]
    },
    {
      "cell_type": "markdown",
      "metadata": {
        "id": "GABI6OW8OfQ2"
      },
      "source": [
        "# **Exercícios**"
      ]
    },
    {
      "cell_type": "markdown",
      "metadata": {
        "id": "muD1vxozykSC"
      },
      "source": [
        "## 1\\. Listas"
      ]
    },
    {
      "cell_type": "markdown",
      "metadata": {
        "id": "ahrFfCuBxJKs"
      },
      "source": [
        "Criei uma lista chamada `filmes` com o nome dos 10 primeiros filmes mais bem avaliados no site no [IMDB](https://www.imdb.com/chart/top/). Imprima o resultado."
      ]
    },
    {
      "cell_type": "code",
      "metadata": {
        "id": "OgL6Hv3bzOHI",
        "colab": {
          "base_uri": "https://localhost:8080/"
        },
        "outputId": "0b78c3c6-56d5-4e6b-ccfe-608b47d41460"
      },
      "source": [
        "filmes = [\"1. Um Sonho de Liberdade (1994) 9,2\",\n",
        "\"2. O Poderoso Chefão (1972) 9,2\",\n",
        "\"3. Batman: O Cavaleiro das Trevas (2008) 9,0\",\n",
        "\"4. O Poderoso Chefão II (1974) 9,0\",\n",
        "\"5. 12 Homens e uma Sentença (1957) 9,0\",\n",
        "\"6. A Lista de Schindler (1993) 8,9\",\n",
        "\"7. O Senhor dos Anéis: O Retorno do Rei (2003) 8,9\",\n",
        "\"8. Pulp Fiction - Tempo de Violência (1994) 8,8\",\n",
        "\"9. O Senhor dos Anéis: A Sociedade do Anel (2001) 8,8\",\n",
        "\"10. Três Homens em Conflito (1966)\"]\n",
        "\n",
        "print(filmes)"
      ],
      "execution_count": null,
      "outputs": [
        {
          "output_type": "stream",
          "name": "stdout",
          "text": [
            "['1. Um Sonho de Liberdade (1994) 9,2', '2. O Poderoso Chefão (1972) 9,2', '3. Batman: O Cavaleiro das Trevas (2008) 9,0', '4. O Poderoso Chefão II (1974) 9,0', '5. 12 Homens e uma Sentença (1957) 9,0', '6. A Lista de Schindler (1993) 8,9', '7. O Senhor dos Anéis: O Retorno do Rei (2003) 8,9', '8. Pulp Fiction - Tempo de Violência (1994) 8,8', '9. O Senhor dos Anéis: A Sociedade do Anel (2001) 8,8', '10. Três Homens em Conflito (1966)']\n"
          ]
        }
      ]
    },
    {
      "cell_type": "markdown",
      "metadata": {
        "id": "KI9zQRT2xa7m"
      },
      "source": [
        "Simule a movimentação do *ranking*. Utilize os métodos `insert` e `pop` para trocar a posição do primeiro e do segundo filme da lista. Imprima o resultado.\n",
        "\n"
      ]
    },
    {
      "cell_type": "code",
      "metadata": {
        "id": "zX3mA3_GzrXH",
        "colab": {
          "base_uri": "https://localhost:8080/"
        },
        "outputId": "9207b6e1-8fae-4a0e-87ea-6fe5f1340d49"
      },
      "source": [
        "filmes = [\"1. Um Sonho de Liberdade (1994) 9,2\",\"2. O Poderoso Chefão (1972) 9,2\",\"3. Batman: O Cavaleiro das Trevas (2008) 9,0\",\"4. O Poderoso Chefão II (1974) 9,0\",\"5. 12 Homens e uma Sentença (1957) 9,0\",\"6. A Lista de Schindler (1993) 8,9\",\"7. O Senhor dos Anéis: O Retorno do Rei (2003) 8,9\",\"8. Pulp Fiction - Tempo de Violência (1994) 8,8\",\"9. O Senhor dos Anéis: A Sociedade do Anel (2001) 8,8\",\"10. Três Homens em Conflito (1966)\"]\n",
        "\n",
        "filmes.insert(1,filmes.pop(0))\n",
        "\n",
        "print(filmes)"
      ],
      "execution_count": null,
      "outputs": [
        {
          "output_type": "stream",
          "name": "stdout",
          "text": [
            "['2. O Poderoso Chefão (1972) 9,2', '1. Um Sonho de Liberdade (1994) 9,2', '3. Batman: O Cavaleiro das Trevas (2008) 9,0', '4. O Poderoso Chefão II (1974) 9,0', '5. 12 Homens e uma Sentença (1957) 9,0', '6. A Lista de Schindler (1993) 8,9', '7. O Senhor dos Anéis: O Retorno do Rei (2003) 8,9', '8. Pulp Fiction - Tempo de Violência (1994) 8,8', '9. O Senhor dos Anéis: A Sociedade do Anel (2001) 8,8', '10. Três Homens em Conflito (1966)']\n"
          ]
        }
      ]
    },
    {
      "cell_type": "markdown",
      "metadata": {
        "id": "zMN1Q3jdwoJm"
      },
      "source": [
        "---"
      ]
    },
    {
      "cell_type": "markdown",
      "metadata": {
        "id": "lxa5L6uF0ZJE"
      },
      "source": [
        "## 2\\. Conjuntos"
      ]
    },
    {
      "cell_type": "markdown",
      "metadata": {
        "id": "9JahS2Kj0d5u"
      },
      "source": [
        "Aconteceu um erro no seu *ranking*. Simule a duplicação dos três últimos filmes da lista. Imprima o resultado."
      ]
    },
    {
      "cell_type": "code",
      "metadata": {
        "id": "BnjnLBNC6PGe",
        "colab": {
          "base_uri": "https://localhost:8080/"
        },
        "outputId": "b7a12a67-1c81-484d-9840-66afbe6feb55"
      },
      "source": [
        "filmes = [\"1. Um Sonho de Liberdade (1994) 9,2\",\"2. O Poderoso Chefão (1972) 9,2\",\"3. Batman: O Cavaleiro das Trevas (2008) 9,0\",\"4. O Poderoso Chefão II (1974) 9,0\",\"5. 12 Homens e uma Sentença (1957) 9,0\",\"6. A Lista de Schindler (1993) 8,9\",\"7. O Senhor dos Anéis: O Retorno do Rei (2003) 8,9\",\"8. Pulp Fiction - Tempo de Violência (1994) 8,8\",\"9. O Senhor dos Anéis: A Sociedade do Anel (2001) 8,8\",\"10. Três Homens em Conflito (1966)\"]\n",
        "\n",
        "filmes.append(filmes[7])\n",
        "filmes.append(filmes[8])\n",
        "filmes.append(filmes[9])\n",
        "\n",
        "for x in range(len(filmes)):\n",
        "    print (filmes[x])\n",
        "\n",
        "print(type(filmes))"
      ],
      "execution_count": null,
      "outputs": [
        {
          "output_type": "stream",
          "name": "stdout",
          "text": [
            "1. Um Sonho de Liberdade (1994) 9,2\n",
            "2. O Poderoso Chefão (1972) 9,2\n",
            "3. Batman: O Cavaleiro das Trevas (2008) 9,0\n",
            "4. O Poderoso Chefão II (1974) 9,0\n",
            "5. 12 Homens e uma Sentença (1957) 9,0\n",
            "6. A Lista de Schindler (1993) 8,9\n",
            "7. O Senhor dos Anéis: O Retorno do Rei (2003) 8,9\n",
            "8. Pulp Fiction - Tempo de Violência (1994) 8,8\n",
            "9. O Senhor dos Anéis: A Sociedade do Anel (2001) 8,8\n",
            "10. Três Homens em Conflito (1966)\n",
            "8. Pulp Fiction - Tempo de Violência (1994) 8,8\n",
            "9. O Senhor dos Anéis: A Sociedade do Anel (2001) 8,8\n",
            "10. Três Homens em Conflito (1966)\n",
            "<class 'list'>\n"
          ]
        }
      ]
    },
    {
      "cell_type": "markdown",
      "metadata": {
        "id": "suxTfCJB6ZiX"
      },
      "source": [
        "Utiliza a conversão `set` e `list` para remover os valores duplicados. Imprima o resultado."
      ]
    },
    {
      "cell_type": "code",
      "metadata": {
        "id": "ZvUGN-0n6joM",
        "colab": {
          "base_uri": "https://localhost:8080/"
        },
        "outputId": "2b06d62c-fcd0-4706-8516-0dddc790a85f"
      },
      "source": [
        "filmes = set(filmes)\n",
        "filmes = list(filmes)\n",
        "\n",
        "print (filmes)\n",
        "\n",
        "print(type(filmes))"
      ],
      "execution_count": null,
      "outputs": [
        {
          "output_type": "stream",
          "name": "stdout",
          "text": [
            "['6. A Lista de Schindler (1993) 8,9', '10. Três Homens em Conflito (1966)', '4. O Poderoso Chefão II (1974) 9,0', '1. Um Sonho de Liberdade (1994) 9,2', '7. O Senhor dos Anéis: O Retorno do Rei (2003) 8,9', '8. Pulp Fiction - Tempo de Violência (1994) 8,8', '3. Batman: O Cavaleiro das Trevas (2008) 9,0', '9. O Senhor dos Anéis: A Sociedade do Anel (2001) 8,8', '2. O Poderoso Chefão (1972) 9,2', '5. 12 Homens e uma Sentença (1957) 9,0']\n",
            "<class 'list'>\n"
          ]
        }
      ]
    },
    {
      "cell_type": "markdown",
      "metadata": {
        "id": "ShkK35eQ6pAM"
      },
      "source": [
        "---"
      ]
    },
    {
      "cell_type": "markdown",
      "metadata": {
        "id": "EL_FzmxL6rTv"
      },
      "source": [
        "## 3\\. Dicionários"
      ]
    },
    {
      "cell_type": "markdown",
      "metadata": {
        "id": "i8l0gFqRCpfT"
      },
      "source": [
        "Repita os exercícios da parte 1 (listas). Os elementos da lista `filmes` devem ser dicionários no seguinte formato: `{'nome': <nome-do-filme>, 'ano': <ano do filme>, 'sinopse': <sinopse do filme>}`."
      ]
    },
    {
      "cell_type": "code",
      "metadata": {
        "id": "tu6MSFwGDnHv",
        "colab": {
          "base_uri": "https://localhost:8080/"
        },
        "outputId": "84670d8b-5b2d-47dd-e54f-4ced7c199a83"
      },
      "source": [
        "#Gravando dicionários na memória\n",
        "sonho_de_liberdade = {'nome':'Um Sonho de Liberdade', 'ano':1994, 'sinopse':'Dois homens presos se reúnem ao longo de vários anos, encontrando consolo e eventual redenção através de atos de decência comum.'}\n",
        "poderoso_chefao = {'nome':'O Poderoso Chefão','ano':'1972', 'sinopse':'O patriarca idoso de uma dinastia do crime organizado transfere o controle de seu império clandestino para seu filho relutante.'}\n",
        "batman_cavaleirodastrevas = {'nome':'Batman: O Cavaleiro das Trevas', 'ano':2008, 'sinopse':'Quando a ameaça conhecida como O Coringa surge de seu passado, causa estragos e caos nas pessoas de Gotham. O Cavaleiro das Trevas deve aceitar um dos maiores testes para combater a injustiça.'}\n",
        "poderoso_chefao_ii = {'nome':'O Poderoso Chefão II', 'ano':1974, 'sinopse':'Em 1950, Michael Corleone, agora à frente da família, tenta expandir o negócio do crime a Las Vegas, Los Angeles e Cuba. Paralelamente, é revelada a história de Vito Corleone, e de como saiu da Sicília e chegou a Nova Iorque.'}\n",
        "doze_homens_uma_senteca = {'nome':'12 Homens e uma Sentença', 'ano':1957, 'sinopse':'O julgamento de um assassinato em Nova Iorque é frustrado por um único membro, cujo ceticismo força o júri a considerar cuidadosamente as evidências antes de dar o veredito.'}\n",
        "lista_de_schindler = {'nome':'A Lista de Schindler', 'ano':1993, 'sinopse':'Na Polônia ocupada pelos alemães durante a Segunda Guerra Mundial, o industrial Oskar Schindler começa a ser preocupar com seus trabalhadores judeus depois de testemunhar sua perseguição pelos nazistas.'}\n",
        "senhor_dos_aneis_retornodorei = {'nome':'O Senhor dos Anéis: O Retorno do Rei', 'ano':2003, 'sinopse':'Gandalf e Aragorn lideram o Mundo dos Homens contra o exército de Sauron para desviar o olhar de Frodo e Sam quando eles se aproximam á Montanha da Perdição com o Um Anel.'}\n",
        "pulp_fiction_tempodeviolencia = {'nome':'Pulp Fiction - Tempo de Violência', 'ano':1994, 'sinopse':'As vidas de dois assassinos da máfia, um boxeador, um gângster e sua esposa, e um par de bandidos se entrelaçam em quatro histórias de violência e redenção.'}\n",
        "senhor_dos_aneis_sociedadedoanel = {'nome':'O Senhor dos Anéis: A Sociedade do Anel', 'ano':2001, 'sinopse':'Um manso hobbit do Condado e oito companheiros partem em uma jornada para destruir o poderoso Um Anel e salvar a Terra-média das Trevas.'}\n",
        "tres_homens_em_conflito = {'nome':'Três Homens em Conflito', 'ano':1966, 'sinopse':'Um impostor se junta com dois homens para encontrar fortuna num remoto cemitério.'}\n",
        "\n",
        "#Apresentando o conteúdo salvo em cada dicionário\n",
        "sonho_de_liberdade,poderoso_chefao,batman_cavaleirodastrevas,poderoso_chefao_ii,doze_homens_uma_senteca,lista_de_schindler,senhor_dos_aneis_retornodorei,pulp_fiction_tempodeviolencia,senhor_dos_aneis_sociedadedoanel,tres_homens_em_conflito"
      ],
      "execution_count": null,
      "outputs": [
        {
          "output_type": "execute_result",
          "data": {
            "text/plain": [
              "({'nome': 'Um Sonho de Liberdade',\n",
              "  'ano': 1994,\n",
              "  'sinopse': 'Dois homens presos se reúnem ao longo de vários anos, encontrando consolo e eventual redenção através de atos de decência comum.'},\n",
              " {'nome': 'O Poderoso Chefão',\n",
              "  'ano': '1972',\n",
              "  'sinopse': 'O patriarca idoso de uma dinastia do crime organizado transfere o controle de seu império clandestino para seu filho relutante.'},\n",
              " {'nome': 'Batman: O Cavaleiro das Trevas',\n",
              "  'ano': 2008,\n",
              "  'sinopse': 'Quando a ameaça conhecida como O Coringa surge de seu passado, causa estragos e caos nas pessoas de Gotham. O Cavaleiro das Trevas deve aceitar um dos maiores testes para combater a injustiça.'},\n",
              " {'nome': 'O Poderoso Chefão II',\n",
              "  'ano': 1974,\n",
              "  'sinopse': 'Em 1950, Michael Corleone, agora à frente da família, tenta expandir o negócio do crime a Las Vegas, Los Angeles e Cuba. Paralelamente, é revelada a história de Vito Corleone, e de como saiu da Sicília e chegou a Nova Iorque.'},\n",
              " {'nome': '12 Homens e uma Sentença',\n",
              "  'ano': 1957,\n",
              "  'sinopse': 'O julgamento de um assassinato em Nova Iorque é frustrado por um único membro, cujo ceticismo força o júri a considerar cuidadosamente as evidências antes de dar o veredito.'},\n",
              " {'nome': 'A Lista de Schindler',\n",
              "  'ano': 1993,\n",
              "  'sinopse': 'Na Polônia ocupada pelos alemães durante a Segunda Guerra Mundial, o industrial Oskar Schindler começa a ser preocupar com seus trabalhadores judeus depois de testemunhar sua perseguição pelos nazistas.'},\n",
              " {'nome': 'O Senhor dos Anéis: O Retorno do Rei',\n",
              "  'ano': 2003,\n",
              "  'sinopse': 'Gandalf e Aragorn lideram o Mundo dos Homens contra o exército de Sauron para desviar o olhar de Frodo e Sam quando eles se aproximam á Montanha da Perdição com o Um Anel.'},\n",
              " {'nome': 'Pulp Fiction - Tempo de Violência',\n",
              "  'ano': 1994,\n",
              "  'sinopse': 'As vidas de dois assassinos da máfia, um boxeador, um gângster e sua esposa, e um par de bandidos se entrelaçam em quatro histórias de violência e redenção.'},\n",
              " {'nome': 'O Senhor dos Anéis: A Sociedade do Anel',\n",
              "  'ano': 2001,\n",
              "  'sinopse': 'Um manso hobbit do Condado e oito companheiros partem em uma jornada para destruir o poderoso Um Anel e salvar a Terra-média das Trevas.'},\n",
              " {'nome': 'Três Homens em Conflito',\n",
              "  'ano': 1966,\n",
              "  'sinopse': 'Um impostor se junta com dois homens para encontrar fortuna num remoto cemitério.'})"
            ]
          },
          "metadata": {},
          "execution_count": 54
        }
      ]
    }
  ]
}