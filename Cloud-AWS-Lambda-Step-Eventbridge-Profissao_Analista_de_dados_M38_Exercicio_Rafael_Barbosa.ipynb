{
  "nbformat": 4,
  "nbformat_minor": 0,
  "metadata": {
    "colab": {
      "provenance": []
    },
    "kernelspec": {
      "name": "python3",
      "display_name": "Python 3"
    }
  },
  "cells": [
    {
      "cell_type": "markdown",
      "metadata": {
        "id": "KJqp9AANOCtf"
      },
      "source": [
        "<img src=\"https://raw.githubusercontent.com/andre-marcos-perez/ebac-course-utils/main/media/logo/newebac_logo_black_half.png\" alt=\"ebac-logo\">\n",
        "\n",
        "---\n",
        "\n",
        "# **Módulo** | Computação em Nuvem II\n",
        "Caderno de **Exercícios**<br>\n",
        "Professor [André Perez](https://www.linkedin.com/in/andremarcosperez/)<br>\n",
        "Aluno [Rafael Barbosa](https://www.linkedin.com/in/barbosa89/)\n",
        "\n",
        "\n",
        "---"
      ]
    },
    {
      "cell_type": "markdown",
      "metadata": {
        "id": "d9jDtUbDOE1-"
      },
      "source": [
        "# **Tópicos**\n",
        "\n",
        "<ol type=\"1\">\n",
        "  <li>AWS Lambda;</li>\n",
        "  <li>AWS Step Functions;</li>\n",
        "  <li>AWS EventBridge.</li>\n",
        "</ol>"
      ]
    },
    {
      "cell_type": "markdown",
      "metadata": {
        "id": "SmoHgt-lwkpD"
      },
      "source": [
        "---"
      ]
    },
    {
      "cell_type": "markdown",
      "metadata": {
        "id": "GABI6OW8OfQ2"
      },
      "source": [
        "# **Exercícios**"
      ]
    },
    {
      "cell_type": "markdown",
      "metadata": {
        "id": "ne7Ay0HKaGSv"
      },
      "source": [
        "## 1\\. AWS Lambda"
      ]
    },
    {
      "cell_type": "markdown",
      "metadata": {
        "id": "OQxOVktrzG9I"
      },
      "source": [
        "- Criar um *bucket* no AWS [S3](https://aws.amazon.com/pt/s3/) para salvar o dado original (`bronze`);\n",
        "\n",
        "![](https://github.com/rafie-b/Profession-Data-Analyst/blob/main/M38%20imagens/s3-bronze.png?raw=true)\n",
        "\n",
        "- Criar uma função AWS [Lambda](https://aws.amazon.com/pt/lambda/) para extrair o dado original;\n",
        "\n",
        "![](https://github.com/rafie-b/Profession-Data-Analyst/blob/main/M38%20imagens/lambda-bronze-1.png?raw=true)\n",
        "![](https://github.com/rafie-b/Profession-Data-Analyst/blob/main/M38%20imagens/lambda-bronze-2.png?raw=true)\n",
        "\n",
        "O código utilizado encontra-se abaixo."
      ]
    },
    {
      "cell_type": "code",
      "source": [
        "import json\n",
        "import logging\n",
        "from datetime import datetime\n",
        "\n",
        "import boto3\n",
        "import urllib3\n",
        "from botocore.exceptions import ClientError\n",
        "\n",
        "\n",
        "def lambda_handler(event, context) -> bool:\n",
        "\n",
        "  # -- setup\n",
        "\n",
        "  URL = 'https://www2.cetip.com.br/ConsultarTaxaDi/ConsultarTaxaDICetip.aspx'\n",
        "  BRONZE_BUCKET = 'ebac-m38-bronze'\n",
        "\n",
        "  client = boto3.client('s3')\n",
        "\n",
        "  date = datetime.now().strftime('%Y-%m-%d')\n",
        "  filename_json = f'stock-exchange-{date}.json'\n",
        "\n",
        "  # -- extract\n",
        "\n",
        "  try:\n",
        "    http = urllib3.PoolManager()\n",
        "    response = http.request(url=URL, method='get')\n",
        "  except Exception as exc:\n",
        "    raise exc\n",
        "  else:\n",
        "    data = json.loads(response.data.decode())\n",
        "    logging.info(msg=data)\n",
        "\n",
        "  # -- transform\n",
        "\n",
        "  ...\n",
        "\n",
        "  # -- load\n",
        "\n",
        "  try:\n",
        "      with open(f'/tmp/{filename_json}', mode='w', encoding='utf8') as fp:\n",
        "          json.dump(data, fp)\n",
        "      client.upload_file(Filename=f'/tmp/{filename_json}', Bucket=BRONZE_BUCKET, Key=filename_json)\n",
        "  except ClientError as exc:\n",
        "      raise exc\n",
        "\n",
        "  return json.dumps(dict(status=True))"
      ],
      "metadata": {
        "id": "ivMDqgGjQh94"
      },
      "execution_count": null,
      "outputs": []
    },
    {
      "cell_type": "markdown",
      "source": [
        "- Criar um *bucket* no AWS [S3](https://aws.amazon.com/pt/s3/) para salvar o dado transformado  (`silver`);\n",
        "\n",
        "![](https://github.com/rafie-b/Profession-Data-Analyst/blob/main/M38%20imagens/s3-silver.png?raw=true)\n",
        "\n",
        "- Criar uma função AWS [Lambda](https://aws.amazon.com/pt/lambda/) para transformar o dado original;\n",
        "\n",
        "![](https://github.com/rafie-b/Profession-Data-Analyst/blob/main/M38%20imagens/lambda-silver-1.png?raw=true)\n",
        "![](https://github.com/rafie-b/Profession-Data-Analyst/blob/main/M38%20imagens/lambda-silver-2.png?raw=true)\n",
        "\n",
        "O código utilizado encontra-se abaixo."
      ],
      "metadata": {
        "id": "wrudah_9MXKK"
      }
    },
    {
      "cell_type": "code",
      "source": [
        "import json\n",
        "from datetime import datetime\n",
        "\n",
        "import boto3\n",
        "from botocore.exceptions import ClientError\n",
        "\n",
        "\n",
        "def lambda_handler(event, context) -> bool:\n",
        "\n",
        "  # -- setup\n",
        "\n",
        "  BRONZE_BUCKET = 'ebac-m38-bronze'\n",
        "  SILVER_BUCKET = 'ebac-m38-silver'\n",
        "\n",
        "  client = boto3.client('s3')\n",
        "\n",
        "  date = datetime.now().strftime('%Y-%m-%d')\n",
        "  filename_csv = f'stock-exchange-{date}.csv'\n",
        "  filename_json = f'stock-exchange-{date}.json'\n",
        "\n",
        "  # -- extract\n",
        "\n",
        "  client.download_file(BRONZE_BUCKET, filename_json, f'/tmp/{filename_json}')\n",
        "\n",
        "  with open(f\"/tmp/{filename_json}\", mode='r', encoding='utf8') as fp:\n",
        "      data = json.load(fp)\n",
        "\n",
        "  # -- transform\n",
        "\n",
        "  data['taxa'] = data['taxa'].replace(',', '.')\n",
        "  data['indice'] = data['indice'].replace('.', '').replace(',', '.')\n",
        "\n",
        "  data['dataTaxa'] = datetime.strptime(data['dataTaxa'], '%d/%m/%Y').strftime('%Y-%m-%d')\n",
        "  data['dataIndice'] = datetime.strptime(data['dataIndice'], '%d/%m/%Y').strftime('%Y-%m-%d')\n",
        "\n",
        "  # -- load\n",
        "\n",
        "  try:\n",
        "      with open(f'/tmp/{filename_csv}', mode='w', encoding='utf8') as fp:\n",
        "          fp.write(','.join([v for v in data.values()]))\n",
        "      client.upload_file(Filename=f'/tmp/{filename_csv}', Bucket=SILVER_BUCKET, Key=f'data_referencia={date}/{filename_csv}')\n",
        "  except ClientError as exc:\n",
        "      raise exc\n",
        "\n",
        "  return json.dumps(dict(status=True))"
      ],
      "metadata": {
        "id": "yPdPyvWJRN6b"
      },
      "execution_count": null,
      "outputs": []
    },
    {
      "cell_type": "markdown",
      "source": [
        "- Criar uma função AWS [Lambda](https://aws.amazon.com/pt/lambda/) para criar uma tabela no AWS [Athena](https://aws.amazon.com/pt/athena) apontando para o *bucket* do dado transformado.\n",
        "\n",
        "![](https://github.com/rafie-b/Profession-Data-Analyst/blob/main/M38%20imagens/lambda-silver-table.png?raw=true)\n",
        "![](https://github.com/rafie-b/Profession-Data-Analyst/blob/main/M38%20imagens/athena-create-cdi.png?raw=true)\n",
        "![](https://github.com/rafie-b/Profession-Data-Analyst/blob/main/M38%20imagens/athena-select-all-cdi.png?raw=true)\n",
        "\n",
        "O código utilizado encontra-se abaixo.\n"
      ],
      "metadata": {
        "id": "DdbsZgf_MeL6"
      }
    },
    {
      "cell_type": "code",
      "source": [
        "import json\n",
        "from datetime import datetime\n",
        "\n",
        "import boto3\n",
        "from botocore.exceptions import ClientError\n",
        "\n",
        "\n",
        "def lambda_handler(event, context) -> bool:\n",
        "\n",
        "  # -- setup\n",
        "\n",
        "  SILVER_BUCKET = 'ebac-m38-silver'\n",
        "\n",
        "  query = f\"\"\"\n",
        "  CREATE EXTERNAL TABLE IF NOT EXISTS cdi (\n",
        "    taxa double,\n",
        "    data_taxa string,\n",
        "    indice double,\n",
        "    data_indice string\n",
        "  )\n",
        "  PARTITIONED BY (\n",
        "    data_referencia string\n",
        "  )\n",
        "  ROW FORMAT SERDE 'org.apache.hadoop.hive.serde2.OpenCSVSerde'\n",
        "  WITH SERDEPROPERTIES ('separatorChar'=',')\n",
        "  LOCATION 's3://{SILVER_BUCKET}/'\n",
        "  \"\"\"\n",
        "\n",
        "  client = boto3.client('athena')\n",
        "\n",
        "  # -- create\n",
        "\n",
        "  try:\n",
        "    client.start_query_execution(\n",
        "      QueryString=query,\n",
        "      ResultConfiguration={'OutputLocation': 's3://ebac-modulo-37-results/'}\n",
        "    )\n",
        "  except ClientError as exc:\n",
        "    raise exc\n",
        "\n",
        "  # -- update\n",
        "\n",
        "  try:\n",
        "    client.start_query_execution(\n",
        "      QueryString='MSCK REPAIR TABLE cdi',\n",
        "      ResultConfiguration={'OutputLocation': 's3://ebac-modulo-37-results/'}\n",
        "    )\n",
        "  except ClientError as exc:\n",
        "    raise exc\n",
        "\n",
        "  return json.dumps(dict(status=True))"
      ],
      "metadata": {
        "id": "k42vdDrbR8VU"
      },
      "execution_count": null,
      "outputs": []
    },
    {
      "cell_type": "markdown",
      "metadata": {
        "id": "EvJTE2FpaGeU"
      },
      "source": [
        "## 2\\. AWS Step Functions"
      ]
    },
    {
      "cell_type": "markdown",
      "metadata": {
        "id": "ISYXZbomlb1x"
      },
      "source": [
        " - Criar uma `state machine` com três *tasks*, uma com cada função lambda criada na item 1.\n",
        "\n",
        " ![](https://github.com/rafie-b/Profession-Data-Analyst/blob/main/M38%20imagens/step-config.png?raw=true)\n",
        " ![](https://github.com/rafie-b/Profession-Data-Analyst/blob/main/M38%20imagens/step-state-machine.png?raw=true)\n",
        " ![](https://github.com/rafie-b/Profession-Data-Analyst/blob/main/M38%20imagens/step-state-exec-1.png?raw=true)\n",
        " ![](https://github.com/rafie-b/Profession-Data-Analyst/blob/main/M38%20imagens/step-state-exec-2.png?raw=true)"
      ]
    },
    {
      "cell_type": "markdown",
      "metadata": {
        "id": "oVejInuPakz5"
      },
      "source": [
        "## 3\\. AWS EventBridge"
      ]
    },
    {
      "cell_type": "markdown",
      "metadata": {
        "id": "CZbuPphXakz7"
      },
      "source": [
        " - Criar um evento que inicie a *state machine* do item 2.\n",
        "\n",
        " ![](https://github.com/rafie-b/Profession-Data-Analyst/blob/main/M38%20imagens/eventbridge-create-0.png?raw=true)\n",
        " ![](https://github.com/rafie-b/Profession-Data-Analyst/blob/main/M38%20imagens/eventbridge-create-1.png?raw=true)\n",
        " ![](https://github.com/rafie-b/Profession-Data-Analyst/blob/main/M38%20imagens/eventbridge-create-2.png?raw=true)\n",
        " ![](https://github.com/rafie-b/Profession-Data-Analyst/blob/main/M38%20imagens/eventbridge-create-3.png?raw=true)\n",
        " ![](https://github.com/rafie-b/Profession-Data-Analyst/blob/main/M38%20imagens/eventbridge-create-4.png?raw=true)"
      ]
    }
  ]
}